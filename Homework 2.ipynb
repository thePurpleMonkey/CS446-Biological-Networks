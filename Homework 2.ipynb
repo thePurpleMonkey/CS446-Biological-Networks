{
 "cells": [
  {
   "cell_type": "code",
   "execution_count": 1,
   "metadata": {
    "collapsed": false
   },
   "outputs": [],
   "source": [
    "#from random import shuffle\n",
    "from math import isnan, sqrt\n",
    "import igraph"
   ]
  },
  {
   "cell_type": "markdown",
   "metadata": {},
   "source": [
    "# Section 2"
   ]
  },
  {
   "cell_type": "code",
   "execution_count": 2,
   "metadata": {
    "collapsed": false,
    "scrolled": false
   },
   "outputs": [
    {
     "name": "stdout",
     "output_type": "stream",
     "text": [
      "IGRAPH DN-- 133 261 -- \n",
      "+ attr: name (v)\n"
     ]
    }
   ],
   "source": [
    "graph = igraph.Graph(directed=True)\n",
    "vertices = set()\n",
    "edges = []\n",
    "\n",
    "with open(\"shared/ecolitfnet.txt\", \"r\") as f:\n",
    "    for line in f:\n",
    "        edges.append(tuple(line.rstrip().split()))\n",
    "            \n",
    "graph = igraph.Graph.TupleList(edges=edges, directed=True)\n",
    "print(graph.summary())"
   ]
  },
  {
   "cell_type": "markdown",
   "metadata": {},
   "source": [
    "# Section 3\n",
    "\n",
    "![Graph motifs](https://6yn6ig.bl3302.livefilestore.com/y3myI__C7wk1XA3nLx6IY4CNe1D4jO49sAN1xGSaYFsp_Q6DqA-rOKk812xzdqLW1xjjV9GKm7iyEJfir5ZnS1ocO9xgjJNW4_gYWLcYzySRhbWdclp1ID-gPrqD9RUe-cbnIyxo2mnsB7I3X0Wjpk541fHepCIIMJazliMTqppTzQ/igraph_motifs.png?psid=1)"
   ]
  },
  {
   "cell_type": "code",
   "execution_count": 3,
   "metadata": {
    "collapsed": false
   },
   "outputs": [
    {
     "name": "stdout",
     "output_type": "stream",
     "text": [
      "Motif 2 occurs 275 times in the graph.\n",
      "Motif 4 occurs 125 times in the graph.\n",
      "Motif 5 occurs 39 times in the graph.\n",
      "Motif 6 occurs 1676 times in the graph.\n",
      "Motif 7 occurs 47 times in the graph.\n",
      "Motif 8 occurs 25 times in the graph.\n",
      "Motif 9 occurs 68 times in the graph.\n",
      "Motif 10 occurs 0 times in the graph.\n",
      "Motif 11 occurs 0 times in the graph.\n",
      "Motif 12 occurs 2 times in the graph.\n",
      "Motif 13 occurs 10 times in the graph.\n",
      "Motif 14 occurs 1 times in the graph.\n",
      "Motif 15 occurs 1 times in the graph.\n"
     ]
    }
   ],
   "source": [
    "for pair in zip(range(16), graph.motifs_randesu()):\n",
    "    if isnan(pair[1]):\n",
    "        continue\n",
    "    print(\"Motif\", pair[0], \"occurs\", pair[1], \"times in the graph.\")"
   ]
  },
  {
   "cell_type": "markdown",
   "metadata": {},
   "source": [
    "**Motif 6** appears the most times in the graph, with _1,676 appearances_.\n",
    "\n",
    "The motif with _47 appearances_ (the Mystery Motif) is **motif 7**, the forward feedback loop. "
   ]
  },
  {
   "cell_type": "code",
   "execution_count": 4,
   "metadata": {
    "collapsed": false
   },
   "outputs": [],
   "source": [
    "motif_occurences = []\n",
    "random_graph = graph.copy()\n",
    "\n",
    "#sources, targets = zip(*edges) # This syntax unzips a list of tuples\n",
    "#sources, targets = list(sources), list(targets) # Convert tuples to lists\n",
    "for i in range(10000):\n",
    "    #shuffle(targets)\n",
    "    #random_graph = igraph.Graph.TupleList(edges=list(zip(sources, targets)), directed=True)\n",
    "    random_graph.rewire() # Replaced the shuffling technique with rewire(), which prevents self-loops\n",
    "    motif_occurences.append(random_graph.motifs_randesu()[7])\n",
    "    "
   ]
  },
  {
   "cell_type": "code",
   "execution_count": 13,
   "metadata": {
    "collapsed": false
   },
   "outputs": [
    {
     "name": "stdout",
     "output_type": "stream",
     "text": [
      "Mystery Motif in random networks:\n",
      "    Mean: 57.2378\n",
      "    Standard deviation: 9.251629648878104\n",
      "    Z-score: -1.106594231346202\n",
      "    Ratio of real value to mean: 0.8211356830625915\n"
     ]
    }
   ],
   "source": [
    "mean = sum(motif_occurences)/len(motif_occurences)\n",
    "standard_deviation = sqrt(sum(map(lambda x: (x - mean)**2, motif_occurences))/len(motif_occurences))\n",
    "z_score = (47 - mean) / standard_deviation\n",
    "\n",
    "print(\"Mystery Motif in random networks:\")\n",
    "print(\"    Mean:\", mean)\n",
    "print(\"    Standard deviation:\", standard_deviation)\n",
    "print(\"    Z-score:\", z_score) # Sure, this looks statistically significant. It's far past the standard deviation\n",
    "print(\"    Ratio of real value to mean:\", 47/mean)"
   ]
  },
  {
   "cell_type": "markdown",
   "metadata": {},
   "source": [
    "**Question:** How do these values compare to Table 1 of Reading 18 in Shen-Orr et al., Nature Genetics, 2002?\n",
    "\n",
    "**My answer:** Shen-Orr et al. measured 40 feed-foward loops in their real network and 7 in the randomized networks, with a ratio of 5.714. My measured values are significantly different then theirs; I measured slightly more feed-forward loops in the random networks and they measured significantly less in the randomized networks. "
   ]
  },
  {
   "cell_type": "markdown",
   "metadata": {},
   "source": [
    "**Question:** Given the modest ratio of the MM frequency in the real network vs. randomly\n",
    "shuffled network, should we entertain the possibility that the high frequency of\n",
    "MMs in the real network could be a conseqeuence of the degree distribution\n",
    "rather than evolution specifically “favoring” FFLs as a building block for gene\n",
    "regulatory networks?\n",
    "\n",
    "**My answer:** Given that in random networks, the mystery motif appears on average more than one whole standard deviation more than the actual network, I think that's that's strong evidence that the feed-forward loop just appears as an artifact of a network with this degree distribution. "
   ]
  },
  {
   "cell_type": "markdown",
   "metadata": {},
   "source": [
    "# Section 4"
   ]
  },
  {
   "cell_type": "code",
   "execution_count": 6,
   "metadata": {
    "collapsed": false
   },
   "outputs": [
    {
     "name": "stdout",
     "output_type": "stream",
     "text": [
      "Class 19 subgraph:\n",
      "IGRAPH D--- 4 4 --\n",
      "+ edges:\n",
      "3->1 2->1 3->0 2->0\n",
      "\n",
      "There are a total of 297 total occurences of this motif in the E. coli gene regulatory netowork.\n"
     ]
    }
   ],
   "source": [
    "# This code snipped will iterate and print out each class with its configuration.\n",
    "# It is commented out to keep the output brief.\n",
    "#for i in range(218):\n",
    "#    g = igraph.Graph.Isoclass(4, i, directed=True)\n",
    "#    if g.ecount() == 4:\n",
    "#        print(\"\\nClass\", i, \"\\n\", igraph.Graph.Isoclass(4, i, directed=True))\n",
    "\n",
    "# We desire a class 19 subgraph\n",
    "print(\"Class 19 subgraph:\")\n",
    "print(igraph.Graph.Isoclass(4, 19, directed=True))\n",
    "print(\"\\nThere are a total of\", graph.motifs_randesu(4)[19], \"total occurences of this motif in the E. coli gene regulatory netowork.\")"
   ]
  },
  {
   "cell_type": "code",
   "execution_count": 7,
   "metadata": {
    "collapsed": false
   },
   "outputs": [
    {
     "name": "stdout",
     "output_type": "stream",
     "text": [
      "Four-vertex motif analysis:\n",
      "    Mean: 177.4322\n",
      "    Standard deviation: 38.51979754827441\n",
      "    Z-score: 3.1040609663161725\n",
      "    Ratio of real value to mean: 1.673878811174071\n"
     ]
    }
   ],
   "source": [
    "quad_motif_occurences = []\n",
    "\n",
    "for i in range(10000):\n",
    "    #shuffle(targets)\n",
    "    #random_graph = igraph.Graph.TupleList(edges=list(zip(sources, targets)), directed=True)\n",
    "    random_graph.rewire()\n",
    "    quad_motif_occurences.append(random_graph.motifs_randesu(4)[19])\n",
    "    \n",
    "mean = sum(quad_motif_occurences)/len(quad_motif_occurences)\n",
    "standard_deviation = sqrt(sum(map(lambda x: (x - mean)**2, quad_motif_occurences))/len(quad_motif_occurences))\n",
    "z_score = (297 - mean) / standard_deviation\n",
    "\n",
    "print(\"Four-vertex motif analysis:\")\n",
    "print(\"    Mean:\", mean)\n",
    "print(\"    Standard deviation:\", standard_deviation)\n",
    "print(\"    Z-score:\", z_score)\n",
    "print(\"    Ratio of real value to mean:\", 297/mean) # TODO: How does this compare to Table 1 of Reading 18?"
   ]
  },
  {
   "cell_type": "markdown",
   "metadata": {},
   "source": [
    "**Question:** How does this ratio compare to the ratio that you obtain\n",
    "from Table 1 from Shen-Orr et al.? Are they consistent?\n",
    "\n",
    "**My Answer:** Shen-Orr et al. reported 203 ocurrences of this motif in the real network 57 in the random network. That means a ratio of 3.561. Although we have both calculated that this motif occurs in the real network more times than in the random network, Shen-Orr et al. calculated a dramatically higher ratio then I was able to. "
   ]
  },
  {
   "cell_type": "markdown",
   "metadata": {},
   "source": [
    "**Question:** Does this suggest that\n",
    "Shen-Orr’s actual network randomization procedure is possibly not consistent\n",
    "with their description in the Methods section of their paper, i.e., that it may\n",
    "have had some kind of error?\n",
    "\n",
    "**My answer:** Yes, I believe that their techniques may have been prone to error, given that I was unable to reproduce their results. I have either calculated completely different results or results that are far less extreme then theirs. "
   ]
  },
  {
   "cell_type": "markdown",
   "metadata": {},
   "source": [
    "# Extra Credit"
   ]
  },
  {
   "cell_type": "code",
   "execution_count": 8,
   "metadata": {
    "collapsed": false
   },
   "outputs": [
    {
     "name": "stdout",
     "output_type": "stream",
     "text": [
      "IGRAPH D--- 20 37 -- \n"
     ]
    }
   ],
   "source": [
    "graph = igraph.Graph.Barabasi(20, 2, directed=True)\n",
    "print(graph.summary())"
   ]
  },
  {
   "cell_type": "code",
   "execution_count": 9,
   "metadata": {
    "collapsed": false
   },
   "outputs": [
    {
     "name": "stdout",
     "output_type": "stream",
     "text": [
      "Network motifs:\n",
      "    (2 -> 0), (1 -> 0), (2 -> 1) occurs 9 times in this graph.\n",
      "    (1 -> 0), (2 -> 1) occurs 44 times in this graph.\n",
      "    (2 -> 0), (2 -> 1) occurs 9 times in this graph.\n",
      "    (2 -> 0), (1 -> 0) occurs 65 times in this graph.\n",
      "    All other triple motifs appear 0 times in this graph.\n"
     ]
    }
   ],
   "source": [
    "motifs = {}\n",
    "vertex_sets = set()\n",
    "\n",
    "for first in graph.vs:    \n",
    "    for second in first.neighbors():\n",
    "        for third in second.neighbors():\n",
    "            if third in (first, second):\n",
    "                continue # Ignore graphs with only two vertices\n",
    "            \n",
    "            vertex_set = frozenset((first, second, third))\n",
    "            if vertex_set in vertex_sets:\n",
    "                continue # Ignore graphs if we've already seen these three vertices before\n",
    "            else:\n",
    "                vertex_sets.add(vertex_set)\n",
    "                \n",
    "            g = graph.subgraph([first, second, third])\n",
    "            #print(g.summary())\n",
    "            motif = frozenset({e.tuple for e in g.es})\n",
    "            #print(motif)\n",
    "            motifs[motif] = motifs.get(motif, 0) + 1\n",
    "            \n",
    "print(\"Network motifs:\")\n",
    "for motif in motifs:\n",
    "    print(\"   \", str(motif)[11:-2].replace(\"),\", \"**\").replace(\", \", \" -> \").replace(\"**\", \"),\"), \"occurs\", motifs[motif], \"times in this graph.\")\n",
    "print(\"    All other triple motifs appear 0 times in this graph.\")"
   ]
  },
  {
   "cell_type": "code",
   "execution_count": 10,
   "metadata": {
    "collapsed": false
   },
   "outputs": [
    {
     "name": "stdout",
     "output_type": "stream",
     "text": [
      "Actual number of motifs: [nan, nan, 65, nan, 44, 0, 9, 9, 0, 0, 0, 0, 0, 0, 0, 0]\n"
     ]
    }
   ],
   "source": [
    "print(\"Actual number of motifs:\", graph.motifs_randesu())"
   ]
  }
 ],
 "metadata": {
  "kernelspec": {
   "display_name": "Python 3",
   "language": "python",
   "name": "python3"
  },
  "language_info": {
   "codemirror_mode": {
    "name": "ipython",
    "version": 3
   },
   "file_extension": ".py",
   "mimetype": "text/x-python",
   "name": "python",
   "nbconvert_exporter": "python",
   "pygments_lexer": "ipython3",
   "version": "3.4.3"
  }
 },
 "nbformat": 4,
 "nbformat_minor": 1
}
