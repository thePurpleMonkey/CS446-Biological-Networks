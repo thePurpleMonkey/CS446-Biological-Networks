{
 "cells": [
  {
   "cell_type": "code",
   "execution_count": 1,
   "metadata": {
    "collapsed": false
   },
   "outputs": [],
   "source": [
    "import matplotlib.pyplot as plot\n",
    "import igraph"
   ]
  },
  {
   "cell_type": "code",
   "execution_count": 2,
   "metadata": {
    "collapsed": true
   },
   "outputs": [],
   "source": [
    "def is_reaction(string):\n",
    "    return string.startswith(\"REACTION\")\n",
    "\n",
    "metabolites = set()\n",
    "reactions = set()\n",
    "edges = {}"
   ]
  },
  {
   "cell_type": "code",
   "execution_count": 3,
   "metadata": {
    "collapsed": false
   },
   "outputs": [
    {
     "name": "stdout",
     "output_type": "stream",
     "text": [
      "Number of metabolites: 2340\n",
      "Number of reactions: 5539\n",
      "Total number of vertices: 7879\n",
      "\n",
      "IGRAPH DN-T 7879 19537 -- \n",
      "+ attr: name (v), type (v)\n",
      "Bipartite: True\n"
     ]
    }
   ],
   "source": [
    "graph = igraph.Graph(directed=True)\n",
    "\n",
    "f = open(\"hsmetnet.txt\", \"r\")\n",
    "\n",
    "for line in f:\n",
    "    for item in line.strip().split(\"\\t\"):\n",
    "        if is_reaction(item):\n",
    "            reactions.add(item)\n",
    "        else:\n",
    "            metabolites.add(item)\n",
    "              \n",
    "for metabolite in metabolites:\n",
    "    graph.add_vertex(name=metabolite, type=False)\n",
    "    \n",
    "for reaction in reactions:\n",
    "    graph.add_vertex(name=reaction, type=True)\n",
    "                \n",
    "f.seek(0) # and ye shall find\n",
    "edges_set = set()\n",
    "\n",
    "for line in f:\n",
    "    first, second = line.strip().split(\"\\t\")\n",
    "    edges_set.add((first, second))\n",
    "    \n",
    "    if first in edges:\n",
    "        edges[first].append(second)\n",
    "    else:\n",
    "        edges[first] = [second]\n",
    "        \n",
    "graph.add_edges(edges_set)\n",
    "del edges_set\n",
    "\n",
    "f.close()\n",
    "\n",
    "print(\"Number of metabolites:\", len(metabolites))\n",
    "print(\"Number of reactions:\", len(reactions))\n",
    "print(\"Total number of vertices:\", len(metabolites) + len(reactions))\n",
    "print()\n",
    "\n",
    "original_graph = graph\n",
    "del graph\n",
    "\n",
    "print(original_graph.summary())\n",
    "print(\"Bipartite:\", original_graph.is_bipartite())"
   ]
  },
  {
   "cell_type": "code",
   "execution_count": 4,
   "metadata": {
    "collapsed": false
   },
   "outputs": [],
   "source": [
    "def collapse(graph, t):\n",
    "    collapsed_graph = igraph.Graph(directed=graph.is_directed())\n",
    "    original_vertices = graph.vs.select(type=t)\n",
    "    \n",
    "    for vertex in original_vertices:\n",
    "        try:\n",
    "            collapsed_graph.add_vertex(vertex[\"name\"], label=vertex[\"label\"])\n",
    "        except KeyError:\n",
    "            collapsed_graph.add_vertex(vertex[\"name\"])\n",
    "        \n",
    "    for vertex1 in original_vertices:\n",
    "        for neighbor in vertex1.neighbors(mode=igraph.OUT):\n",
    "            for vertex2 in neighbor.neighbors(mode=igraph.OUT):\n",
    "                collapsed_graph.add_edge(vertex1[\"name\"], vertex2[\"name\"])\n",
    "                \n",
    "    return collapsed_graph"
   ]
  },
  {
   "cell_type": "code",
   "execution_count": 5,
   "metadata": {
    "collapsed": false
   },
   "outputs": [
    {
     "name": "stdout",
     "output_type": "stream",
     "text": [
      "IGRAPH DN-- 2340 18078 -- \n",
      "+ attr: name (v)\n",
      "Bipartite: False\n"
     ]
    }
   ],
   "source": [
    "collapsed_graph = collapse(original_graph, False)\n",
    "print(collapsed_graph.summary())\n",
    "print(\"Bipartite:\", collapsed_graph.is_bipartite())"
   ]
  },
  {
   "cell_type": "code",
   "execution_count": 6,
   "metadata": {
    "collapsed": false
   },
   "outputs": [
    {
     "name": "stdout",
     "output_type": "stream",
     "text": [
      "Number of metabolites: 2340\n",
      "Vertices in compressed graph: 2340\n",
      "\n"
     ]
    }
   ],
   "source": [
    "print(\"Number of metabolites:\", len(metabolites))\n",
    "print(\"Vertices in compressed graph:\", collapsed_graph.vcount())\n",
    "print()"
   ]
  },
  {
   "cell_type": "code",
   "execution_count": 7,
   "metadata": {
    "collapsed": false
   },
   "outputs": [],
   "source": [
    "distances = []\n",
    "\n",
    "for vertex in original_graph.vs:\n",
    "    distances.append([i for i in vertex.shortest_paths()[0] if i not in (float(\"inf\"), 0)])\n",
    "    \n",
    "og_longest_geodesic_path = max([max(i) for i in distances if len(i) > 0])\n",
    "\n",
    "\n",
    "\n",
    "distances = []\n",
    "\n",
    "for vertex in collapsed_graph.vs:\n",
    "    distances.append([i for i in vertex.shortest_paths()[0] if i not in (float(\"inf\"), 0)])\n",
    "    \n",
    "cg_longest_geodesic_path = max([max(i) for i in distances if len(i) > 0])\n",
    "\n",
    "del distances"
   ]
  },
  {
   "cell_type": "code",
   "execution_count": 8,
   "metadata": {
    "collapsed": false
   },
   "outputs": [
    {
     "name": "stdout",
     "output_type": "stream",
     "text": [
      "[7.958659055333345, 32]\n",
      "[4.807637629882836, 16]\n"
     ]
    }
   ],
   "source": [
    "og = [original_graph.average_path_length(), og_longest_geodesic_path]\n",
    "cg = [collapsed_graph.average_path_length(), cg_longest_geodesic_path]\n",
    "\n",
    "print(og)\n",
    "print(cg)"
   ]
  },
  {
   "cell_type": "code",
   "execution_count": 9,
   "metadata": {
    "collapsed": false
   },
   "outputs": [
    {
     "data": {
      "image/png": "[encoded data removed]",
      "text/plain": [
       "<matplotlib.figure.Figure at 0x7f6ed354c5c0>"
      ]
     },
     "metadata": {},
     "output_type": "display_data"
    }
   ],
   "source": [
    "multiple_bars = plot.figure()\n",
    "\n",
    "x = range(1, 4, 2)\n",
    "\n",
    "ax = plot.subplot(111)\n",
    "ax.bar(x,                  og,width=0.5,color='g',align='center', label=\"Original graph\")\n",
    "ax.bar([i+0.5 for i in x], cg,width=0.5,color='b',align='center', label=\"Collapsed graph\")\n",
    "\n",
    "\n",
    "plot.xticks([i + .25 for i in x], ('Average path length', 'Longest geodesic path', 'C', 'D'))\n",
    "plot.legend(loc=\"upper left\")\n",
    "plot.show()"
   ]
  },
  {
   "cell_type": "code",
   "execution_count": 10,
   "metadata": {
    "collapsed": false
   },
   "outputs": [
    {
     "name": "stdout",
     "output_type": "stream",
     "text": [
      "Original graph: 7879 19537\n",
      "Reduced graph:  2340 18078\n",
      "Vertex net change: -70.30079959385709\n",
      "Edge net change: -7.467881455699442\n"
     ]
    },
    {
     "data": {
      "image/png": "[encoded data removed]",
      "text/plain": [
       "<matplotlib.figure.Figure at 0x7f6ed312cdd8>"
      ]
     },
     "metadata": {},
     "output_type": "display_data"
    }
   ],
   "source": [
    "multiple_bars = plot.figure()\n",
    "\n",
    "x = range(1, 4, 2)\n",
    "\n",
    "print(\"Original graph:\", original_graph.vcount(), original_graph.ecount())\n",
    "print(\"Reduced graph: \", collapsed_graph.vcount(), collapsed_graph.ecount())\n",
    "print(\"Vertex net change:\", (collapsed_graph.vcount()-original_graph.vcount())/original_graph.vcount()*100)\n",
    "print(\"Edge net change:\", (collapsed_graph.ecount()-original_graph.ecount())/original_graph.ecount()*100)\n",
    "\n",
    "ax = plot.subplot(111)\n",
    "ax.bar(x,                  [original_graph.vcount(), original_graph.ecount()],width=0.5,color='g',align='center', label=\"Original graph\")\n",
    "ax.bar([i+0.5 for i in x], [collapsed_graph.vcount(), collapsed_graph.ecount()],width=0.5,color='b',align='center', label=\"Collapsed graph\")\n",
    "\n",
    "plot.ylabel(\"Count\")\n",
    "plot.xticks([i + .25 for i in x], ('Vertices', 'Edges', 'C', 'D'))\n",
    "plot.legend(loc=\"upper left\")\n",
    "plot.show()"
   ]
  },
  {
   "cell_type": "code",
   "execution_count": 11,
   "metadata": {
    "collapsed": false
   },
   "outputs": [
    {
     "data": {
      "image/svg+xml": [
       "<?xml version=\"1.0\" encoding=\"UTF-8\"?>\n",
       "<svg xmlns=\"http://www.w3.org/2000/svg\" xmlns:xlink=\"http://www.w3.org/1999/xlink\" width=\"200pt\" height=\"200pt\" viewBox=\"0 0 200 200\" version=\"1.1\">\n",
       "<defs>\n",
       "<g>\n",
       "<symbol overflow=\"visible\" id=\"glyph0-0\">\n",
       "<path style=\"stroke:none;\" d=\"M 0.703125 2.46875 L 0.703125 -9.875 L 7.703125 -9.875 L 7.703125 2.46875 Z M 1.484375 1.703125 L 6.921875 1.703125 L 6.921875 -9.078125 L 1.484375 -9.078125 Z \"/>\n",
       "</symbol>\n",
       "<symbol overflow=\"visible\" id=\"glyph0-1\">\n",
       "<path style=\"stroke:none;\" d=\"M 7.6875 -7.65625 L 4.921875 -3.9375 L 7.828125 0 L 6.34375 0 L 4.109375 -3.015625 L 1.890625 0 L 0.40625 0 L 3.375 -4 L 0.65625 -7.65625 L 2.140625 -7.65625 L 4.171875 -4.921875 L 6.203125 -7.65625 Z \"/>\n",
       "</symbol>\n",
       "<symbol overflow=\"visible\" id=\"glyph0-2\">\n",
       "<path style=\"stroke:none;\" d=\"M 4.5 0.71875 C 4.144531 1.625 3.796875 2.210938 3.453125 2.484375 C 3.117188 2.765625 2.671875 2.90625 2.109375 2.90625 L 1.109375 2.90625 L 1.109375 1.859375 L 1.84375 1.859375 C 2.1875 1.859375 2.453125 1.773438 2.640625 1.609375 C 2.835938 1.453125 3.050781 1.066406 3.28125 0.453125 L 3.515625 -0.125 L 0.421875 -7.65625 L 1.75 -7.65625 L 4.140625 -1.671875 L 6.53125 -7.65625 L 7.875 -7.65625 Z \"/>\n",
       "</symbol>\n",
       "<symbol overflow=\"visible\" id=\"glyph0-3\">\n",
       "<path style=\"stroke:none;\" d=\"M 0.765625 -7.65625 L 6.75 -7.65625 L 6.75 -6.515625 L 2.015625 -1 L 6.75 -1 L 6.75 0 L 0.609375 0 L 0.609375 -1.15625 L 5.328125 -6.65625 L 0.765625 -6.65625 Z \"/>\n",
       "</symbol>\n",
       "</g>\n",
       "</defs>\n",
       "<g id=\"surface6\">\n",
       "<rect x=\"0\" y=\"0\" width=\"200\" height=\"200\" style=\"fill:rgb(100%,100%,100%);fill-opacity:1;stroke:none;\"/>\n",
       "<path style=\"fill:none;stroke-width:1;stroke-linecap:butt;stroke-linejoin:miter;stroke:rgb(26.666667%,26.666667%,26.666667%);stroke-opacity:1;stroke-miterlimit:10;\" d=\"M 57.035156 100.867188 L 98.324219 99.921875 \"/>\n",
       "<path style=\" stroke:none;fill-rule:nonzero;fill:rgb(26.666667%,26.666667%,26.666667%);fill-opacity:1;\" d=\"M 112.585938 99.597656 L 98.429688 104.554688 L 98.21875 95.289062 L 112.585938 99.597656 \"/>\n",
       "<path style=\"fill:none;stroke-width:1;stroke-linecap:butt;stroke-linejoin:miter;stroke:rgb(26.666667%,26.666667%,26.666667%);stroke-opacity:1;stroke-miterlimit:10;\" d=\"M 122.582031 99.367188 L 131.328125 43.96875 \"/>\n",
       "<path style=\" stroke:none;fill-rule:nonzero;fill:rgb(26.666667%,26.666667%,26.666667%);fill-opacity:1;\" d=\"M 133.550781 29.878906 L 135.90625 44.691406 L 126.75 43.246094 L 133.550781 29.878906 \"/>\n",
       "<path style=\"fill:none;stroke-width:1;stroke-linecap:butt;stroke-linejoin:miter;stroke:rgb(26.666667%,26.666667%,26.666667%);stroke-opacity:1;stroke-miterlimit:10;\" d=\"M 57.035156 100.867188 L 33.597656 66.234375 \"/>\n",
       "<path style=\" stroke:none;fill-rule:nonzero;fill:rgb(26.666667%,26.666667%,26.666667%);fill-opacity:1;\" d=\"M 25.605469 54.417969 L 37.4375 63.636719 L 29.761719 68.832031 L 25.605469 54.417969 \"/>\n",
       "<path style=\"fill:none;stroke-width:1;stroke-linecap:butt;stroke-linejoin:miter;stroke:rgb(26.666667%,26.666667%,26.666667%);stroke-opacity:1;stroke-miterlimit:10;\" d=\"M 57.035156 100.867188 L 55.105469 153.113281 \"/>\n",
       "<path style=\" stroke:none;fill-rule:nonzero;fill:rgb(26.666667%,26.666667%,26.666667%);fill-opacity:1;\" d=\"M 54.578125 167.371094 L 50.472656 152.941406 L 59.734375 153.285156 L 54.578125 167.371094 \"/>\n",
       "<path style=\"fill:none;stroke-width:1;stroke-linecap:butt;stroke-linejoin:miter;stroke:rgb(26.666667%,26.666667%,26.666667%);stroke-opacity:1;stroke-miterlimit:10;\" d=\"M 122.582031 99.367188 L 111.988281 156.144531 \"/>\n",
       "<path style=\" stroke:none;fill-rule:nonzero;fill:rgb(26.666667%,26.666667%,26.666667%);fill-opacity:1;\" d=\"M 109.371094 170.167969 L 107.429688 155.296875 L 116.542969 156.996094 L 109.371094 170.167969 \"/>\n",
       "<path style=\"fill:none;stroke-width:1;stroke-linecap:butt;stroke-linejoin:miter;stroke:rgb(26.666667%,26.666667%,26.666667%);stroke-opacity:1;stroke-miterlimit:10;\" d=\"M 122.582031 99.367188 L 156.359375 107.175781 \"/>\n",
       "<path style=\" stroke:none;fill-rule:nonzero;fill:rgb(26.666667%,26.666667%,26.666667%);fill-opacity:1;\" d=\"M 170.257812 110.390625 L 155.3125 111.691406 L 157.402344 102.660156 L 170.257812 110.390625 \"/>\n",
       "<path style=\"fill:none;stroke-width:1;stroke-linecap:butt;stroke-linejoin:miter;stroke:rgb(26.666667%,26.666667%,26.666667%);stroke-opacity:1;stroke-miterlimit:10;\" d=\"M 54.207031 177.363281 L 83.300781 178.800781 \"/>\n",
       "<path style=\" stroke:none;fill-rule:nonzero;fill:rgb(26.666667%,26.666667%,26.666667%);fill-opacity:1;\" d=\"M 97.546875 179.507812 L 83.070312 183.429688 L 83.527344 174.171875 L 97.546875 179.507812 \"/>\n",
       "<path style=\"fill-rule:nonzero;fill:rgb(100%,0%,0%);fill-opacity:1;stroke-width:1;stroke-linecap:butt;stroke-linejoin:miter;stroke:rgb(0%,0%,0%);stroke-opacity:1;stroke-miterlimit:10;\" d=\"M 67.035156 100.867188 C 67.035156 106.390625 62.558594 110.867188 57.035156 110.867188 C 51.511719 110.867188 47.035156 106.390625 47.035156 100.867188 C 47.035156 95.34375 51.511719 90.867188 57.035156 90.867188 C 62.558594 90.867188 67.035156 95.34375 67.035156 100.867188 \"/>\n",
       "<path style=\"fill-rule:nonzero;fill:rgb(0%,0%,100%);fill-opacity:1;stroke-width:1;stroke-linecap:butt;stroke-linejoin:miter;stroke:rgb(0%,0%,0%);stroke-opacity:1;stroke-miterlimit:10;\" d=\"M 132.582031 99.367188 C 132.582031 104.890625 128.105469 109.367188 122.582031 109.367188 C 117.058594 109.367188 112.582031 104.890625 112.582031 99.367188 C 112.582031 93.84375 117.058594 89.367188 122.582031 89.367188 C 128.105469 89.367188 132.582031 93.84375 132.582031 99.367188 \"/>\n",
       "<path style=\"fill-rule:nonzero;fill:rgb(100%,0%,0%);fill-opacity:1;stroke-width:1;stroke-linecap:butt;stroke-linejoin:miter;stroke:rgb(0%,0%,0%);stroke-opacity:1;stroke-miterlimit:10;\" d=\"M 145.109375 20 C 145.109375 25.523438 140.632812 30 135.109375 30 C 129.585938 30 125.109375 25.523438 125.109375 20 C 125.109375 14.476562 129.585938 10 135.109375 10 C 140.632812 10 145.109375 14.476562 145.109375 20 \"/>\n",
       "<path style=\"fill-rule:nonzero;fill:rgb(0%,0%,100%);fill-opacity:1;stroke-width:1;stroke-linecap:butt;stroke-linejoin:miter;stroke:rgb(0%,0%,0%);stroke-opacity:1;stroke-miterlimit:10;\" d=\"M 64.207031 177.363281 C 64.207031 182.886719 59.730469 187.363281 54.207031 187.363281 C 48.683594 187.363281 44.207031 182.886719 44.207031 177.363281 C 44.207031 171.839844 48.683594 167.363281 54.207031 167.363281 C 59.730469 167.363281 64.207031 171.839844 64.207031 177.363281 \"/>\n",
       "<path style=\"fill-rule:nonzero;fill:rgb(100%,0%,0%);fill-opacity:1;stroke-width:1;stroke-linecap:butt;stroke-linejoin:miter;stroke:rgb(0%,0%,0%);stroke-opacity:1;stroke-miterlimit:10;\" d=\"M 190 112.640625 C 190 118.164062 185.523438 122.640625 180 122.640625 C 174.476562 122.640625 170 118.164062 170 112.640625 C 170 107.121094 174.476562 102.640625 180 102.640625 C 185.523438 102.640625 190 107.121094 190 112.640625 \"/>\n",
       "<path style=\"fill-rule:nonzero;fill:rgb(0%,0%,100%);fill-opacity:1;stroke-width:1;stroke-linecap:butt;stroke-linejoin:miter;stroke:rgb(0%,0%,0%);stroke-opacity:1;stroke-miterlimit:10;\" d=\"M 30 46.136719 C 30 51.660156 25.523438 56.136719 20 56.136719 C 14.476562 56.136719 10 51.660156 10 46.136719 C 10 40.613281 14.476562 36.136719 20 36.136719 C 25.523438 36.136719 30 40.613281 30 46.136719 \"/>\n",
       "<path style=\"fill-rule:nonzero;fill:rgb(100%,0%,0%);fill-opacity:1;stroke-width:1;stroke-linecap:butt;stroke-linejoin:miter;stroke:rgb(0%,0%,0%);stroke-opacity:1;stroke-miterlimit:10;\" d=\"M 117.535156 180 C 117.535156 185.523438 113.058594 190 107.535156 190 C 102.011719 190 97.535156 185.523438 97.535156 180 C 97.535156 174.476562 102.011719 170 107.535156 170 C 113.058594 170 117.535156 174.476562 117.535156 180 \"/>\n",
       "<g style=\"fill:rgb(0%,0%,0%);fill-opacity:1;\">\n",
       "  <use xlink:href=\"#glyph0-1\" x=\"52.917969\" y=\"106.34375\"/>\n",
       "</g>\n",
       "<g style=\"fill:rgb(100%,100%,100%);fill-opacity:1;\">\n",
       "  <use xlink:href=\"#glyph0-2\" x=\"118.433594\" y=\"104.847656\"/>\n",
       "</g>\n",
       "<g style=\"fill:rgb(0%,0%,0%);fill-opacity:1;\">\n",
       "  <use xlink:href=\"#glyph0-3\" x=\"131.429688\" y=\"25.480469\"/>\n",
       "</g>\n",
       "</g>\n",
       "</svg>\n"
      ],
      "text/plain": [
       "<igraph.drawing.Plot at 0x7f6ed31663c8>"
      ]
     },
     "execution_count": 11,
     "metadata": {},
     "output_type": "execute_result"
    }
   ],
   "source": [
    "example = igraph.Graph(directed=True)\n",
    "count = 0\n",
    "for vertex in [\"x\", \"y\", \"z\", \"p\", \"q\", \"r\", \"s\"]:\n",
    "    example.add_vertex(name=vertex, \n",
    "                       label=(vertex if vertex in (\"x\", \"y\", \"z\") else None),\n",
    "                       #label=vertex,\n",
    "                       type=count%2, \n",
    "                       color=(\"blue\" if count%2 else \"red\"), \n",
    "                       label_color=(\"white\" if count%2 else \"black\"))\n",
    "    count += 1\n",
    "#example.add_vertices([\"x\", \"y\", \"z\", \"p\", \"q\", \"r\", \"s\"])\n",
    "example.add_edges([('x', 'y'), ('y', 'z'), ('x', 'r'), ('x', 'p'), ('y', 's'), ('y', 'q'), ('p', 's')])\n",
    "\n",
    "igraph.drawing.plot(example, bbox=(200, 200), target=\"output.pdf\")"
   ]
  },
  {
   "cell_type": "code",
   "execution_count": 12,
   "metadata": {
    "collapsed": false
   },
   "outputs": [
    {
     "name": "stdout",
     "output_type": "stream",
     "text": [
      "IGRAPH DN-T 7 7 -- \n",
      "+ attr: color (v), label (v), label_color (v), name (v), type (v)\n",
      "Bipartite: True\n",
      "0 x\n",
      "1 y\n",
      "2 z\n",
      "3 p\n",
      "4 q\n",
      "5 r\n",
      "6 s\n",
      "\n",
      "IGRAPH DN-- 4 4 -- \n",
      "+ attr: label (v), name (v)\n"
     ]
    },
    {
     "data": {
      "image/svg+xml": [
       "<?xml version=\"1.0\" encoding=\"UTF-8\"?>\n",
       "<svg xmlns=\"http://www.w3.org/2000/svg\" xmlns:xlink=\"http://www.w3.org/1999/xlink\" width=\"200pt\" height=\"200pt\" viewBox=\"0 0 200 200\" version=\"1.1\">\n",
       "<defs>\n",
       "<g>\n",
       "<symbol overflow=\"visible\" id=\"glyph0-0\">\n",
       "<path style=\"stroke:none;\" d=\"M 0.703125 2.46875 L 0.703125 -9.875 L 7.703125 -9.875 L 7.703125 2.46875 Z M 1.484375 1.703125 L 6.921875 1.703125 L 6.921875 -9.078125 L 1.484375 -9.078125 Z \"/>\n",
       "</symbol>\n",
       "<symbol overflow=\"visible\" id=\"glyph0-1\">\n",
       "<path style=\"stroke:none;\" d=\"M 7.6875 -7.65625 L 4.921875 -3.9375 L 7.828125 0 L 6.34375 0 L 4.109375 -3.015625 L 1.890625 0 L 0.40625 0 L 3.375 -4 L 0.65625 -7.65625 L 2.140625 -7.65625 L 4.171875 -4.921875 L 6.203125 -7.65625 Z \"/>\n",
       "</symbol>\n",
       "<symbol overflow=\"visible\" id=\"glyph0-2\">\n",
       "<path style=\"stroke:none;\" d=\"M 0.765625 -7.65625 L 6.75 -7.65625 L 6.75 -6.515625 L 2.015625 -1 L 6.75 -1 L 6.75 0 L 0.609375 0 L 0.609375 -1.15625 L 5.328125 -6.65625 L 0.765625 -6.65625 Z \"/>\n",
       "</symbol>\n",
       "</g>\n",
       "</defs>\n",
       "<g id=\"surface16\">\n",
       "<rect x=\"0\" y=\"0\" width=\"200\" height=\"200\" style=\"fill:rgb(100%,100%,100%);fill-opacity:1;stroke:none;\"/>\n",
       "<path style=\"fill:none;stroke-width:1;stroke-linecap:butt;stroke-linejoin:miter;stroke:rgb(26.666667%,26.666667%,26.666667%);stroke-opacity:1;stroke-miterlimit:10;\" d=\"M 111.175781 67.457031 L 107.625 155.753906 \"/>\n",
       "<path style=\" stroke:none;fill-rule:nonzero;fill:rgb(26.666667%,26.666667%,26.666667%);fill-opacity:1;\" d=\"M 107.054688 170.007812 L 102.996094 155.566406 L 112.257812 155.941406 L 107.054688 170.007812 \"/>\n",
       "<path style=\"fill:none;stroke-width:1;stroke-linecap:butt;stroke-linejoin:miter;stroke:rgb(26.666667%,26.666667%,26.666667%);stroke-opacity:1;stroke-miterlimit:10;\" d=\"M 111.175781 67.457031 L 41.523438 31.203125 \"/>\n",
       "<path style=\" stroke:none;fill-rule:nonzero;fill:rgb(26.666667%,26.666667%,26.666667%);fill-opacity:1;\" d=\"M 28.871094 24.617188 L 43.664062 27.09375 L 39.382812 35.316406 L 28.871094 24.617188 \"/>\n",
       "<path style=\"fill:none;stroke-width:1;stroke-linecap:butt;stroke-linejoin:miter;stroke:rgb(26.666667%,26.666667%,26.666667%);stroke-opacity:1;stroke-miterlimit:10;\" d=\"M 111.175781 67.457031 C 137.257812 74.292969 161.265625 67.753906 171.101562 43.023438 \"/>\n",
       "<path style=\" stroke:none;fill-rule:nonzero;fill:rgb(26.666667%,26.666667%,26.666667%);fill-opacity:1;\" d=\"M 176.375 29.765625 L 175.410156 44.734375 L 166.792969 41.308594 L 176.375 29.765625 \"/>\n",
       "<path style=\"fill:none;stroke-width:1;stroke-linecap:butt;stroke-linejoin:miter;stroke:rgb(26.666667%,26.666667%,26.666667%);stroke-opacity:1;stroke-miterlimit:10;\" d=\"M 111.175781 67.457031 C 114.402344 40.6875 129.308594 20.765625 155.921875 20.703125 \"/>\n",
       "<path style=\" stroke:none;fill-rule:nonzero;fill:rgb(26.666667%,26.666667%,26.666667%);fill-opacity:1;\" d=\"M 170.1875 20.671875 L 155.933594 25.339844 L 155.914062 16.070312 L 170.1875 20.671875 \"/>\n",
       "<path style=\"fill-rule:nonzero;fill:rgb(100%,0%,0%);fill-opacity:1;stroke-width:1;stroke-linecap:butt;stroke-linejoin:miter;stroke:rgb(0%,0%,0%);stroke-opacity:1;stroke-miterlimit:10;\" d=\"M 121.175781 67.457031 C 121.175781 72.980469 116.699219 77.457031 111.175781 77.457031 C 105.652344 77.457031 101.175781 72.980469 101.175781 67.457031 C 101.175781 61.933594 105.652344 57.457031 111.175781 57.457031 C 116.699219 57.457031 121.175781 61.933594 121.175781 67.457031 \"/>\n",
       "<path style=\"fill-rule:nonzero;fill:rgb(100%,0%,0%);fill-opacity:1;stroke-width:1;stroke-linecap:butt;stroke-linejoin:miter;stroke:rgb(0%,0%,0%);stroke-opacity:1;stroke-miterlimit:10;\" d=\"M 116.652344 180 C 116.652344 185.523438 112.175781 190 106.652344 190 C 101.128906 190 96.652344 185.523438 96.652344 180 C 96.652344 174.476562 101.128906 170 106.652344 170 C 112.175781 170 116.652344 174.476562 116.652344 180 \"/>\n",
       "<path style=\"fill-rule:nonzero;fill:rgb(100%,0%,0%);fill-opacity:1;stroke-width:1;stroke-linecap:butt;stroke-linejoin:miter;stroke:rgb(0%,0%,0%);stroke-opacity:1;stroke-miterlimit:10;\" d=\"M 30 20 C 30 25.523438 25.523438 30 20 30 C 14.476562 30 10 25.523438 10 20 C 10 14.476562 14.476562 10 20 10 C 25.523438 10 30 14.476562 30 20 \"/>\n",
       "<path style=\"fill-rule:nonzero;fill:rgb(100%,0%,0%);fill-opacity:1;stroke-width:1;stroke-linecap:butt;stroke-linejoin:miter;stroke:rgb(0%,0%,0%);stroke-opacity:1;stroke-miterlimit:10;\" d=\"M 190 20.648438 C 190 26.171875 185.523438 30.648438 180 30.648438 C 174.476562 30.648438 170 26.171875 170 20.648438 C 170 15.128906 174.476562 10.648438 180 10.648438 C 185.523438 10.648438 190 15.128906 190 20.648438 \"/>\n",
       "<g style=\"fill:rgb(0%,0%,0%);fill-opacity:1;\">\n",
       "  <use xlink:href=\"#glyph0-1\" x=\"107.058594\" y=\"72.9375\"/>\n",
       "</g>\n",
       "<g style=\"fill:rgb(0%,0%,0%);fill-opacity:1;\">\n",
       "  <use xlink:href=\"#glyph0-2\" x=\"102.972656\" y=\"185.480469\"/>\n",
       "</g>\n",
       "</g>\n",
       "</svg>\n"
      ],
      "text/plain": [
       "<igraph.drawing.Plot at 0x7f6ed3196c88>"
      ]
     },
     "execution_count": 12,
     "metadata": {},
     "output_type": "execute_result"
    }
   ],
   "source": [
    "print(example.summary())\n",
    "print(\"Bipartite:\", example.is_bipartite())\n",
    "\n",
    "for v in example.vs:\n",
    "    print(v.index, v[\"name\"])\n",
    "print()\n",
    "\n",
    "collapsed_example = collapse(example, False)\n",
    "print(collapsed_example.summary())\n",
    "igraph.drawing.plot(collapsed_example, bbox=(200, 200), target=\"output2.pdf\")"
   ]
  },
  {
   "cell_type": "code",
   "execution_count": 13,
   "metadata": {
    "collapsed": true
   },
   "outputs": [],
   "source": [
    "def find_motifs(graph):\n",
    "    motifs = {}\n",
    "    vertex_sets = set()\n",
    "\n",
    "    for first in graph.vs:    \n",
    "        for second in first.neighbors():\n",
    "            for third in second.neighbors():\n",
    "                if third in (first, second):\n",
    "                    continue # Ignore graphs with only two vertices\n",
    "\n",
    "                vertex_set = frozenset((first, second, third))\n",
    "                if vertex_set in vertex_sets:\n",
    "                    continue # Ignore graphs if we've already seen these three vertices before\n",
    "                else:\n",
    "                    vertex_sets.add(vertex_set)\n",
    "\n",
    "                g = graph.subgraph([first, second, third])\n",
    "                #print(g.summary())\n",
    "                motif = frozenset({e.tuple for e in g.es})\n",
    "                #print(motif)\n",
    "                motifs[motif] = motifs.get(motif, 0) + 1\n",
    "                \n",
    "    return motifs"
   ]
  },
  {
   "cell_type": "code",
   "execution_count": 14,
   "metadata": {
    "collapsed": false
   },
   "outputs": [
    {
     "name": "stdout",
     "output_type": "stream",
     "text": [
      "    (0 -> 1), (2 -> 0), (1 -> 0) occurs 3884 times in this graph.\n",
      "    (0 -> 1), (2 -> 0), (0 -> 2) occurs 409 times in this graph.\n",
      "    (1 -> 0), (0 -> 2) occurs 121870 times in this graph.\n",
      "    (0 -> 1), (0 -> 2) occurs 928939 times in this graph.\n",
      "    (0 -> 2), (2 -> 1) occurs 9807 times in this graph.\n",
      "    (2 -> 0), (0 -> 2), (2 -> 1) occurs 22 times in this graph.\n",
      "    (1 -> 2), (2 -> 0), (2 -> 1) occurs 17 times in this graph.\n",
      "    (1 -> 2), (2 -> 0), (0 -> 2) occurs 2 times in this graph.\n",
      "    (2 -> 0), (2 -> 1) occurs 5392 times in this graph.\n",
      "    (2 -> 0), (1 -> 0), (0 -> 2) occurs 3638 times in this graph.\n",
      "    (0 -> 1), (2 -> 0) occurs 125617 times in this graph.\n",
      "    (2 -> 0), (1 -> 0) occurs 923414 times in this graph.\n",
      "    (1 -> 2), (2 -> 0) occurs 8160 times in this graph.\n",
      "    (1 -> 2), (0 -> 2) occurs 3774 times in this graph.\n",
      "    (0 -> 1), (2 -> 0), (1 -> 0), (0 -> 2) occurs 599 times in this graph.\n",
      "    (1 -> 2), (0 -> 2), (2 -> 1) occurs 6 times in this graph.\n",
      "    (0 -> 1), (1 -> 0), (0 -> 2) occurs 739 times in this graph.\n",
      "    All other triple motifs appear 0 times in this graph.\n",
      "\n",
      "Elapsed time: 106.62863050494343\n"
     ]
    }
   ],
   "source": [
    "import timeit\n",
    "\n",
    "start_time = timeit.default_timer()\n",
    "motifs = find_motifs(original_graph)\n",
    "ci_elapsed = timeit.default_timer() - start_time\n",
    "\n",
    "for motif in motifs:\n",
    "    print(\"   \", str(motif)[11:-2].replace(\"),\", \"**\").replace(\", \", \" -> \").replace(\"**\", \"),\"), \"occurs\", motifs[motif], \"times in this graph.\")\n",
    "print(\"    All other triple motifs appear 0 times in this graph.\")\n",
    "print()\n",
    "print(\"Elapsed time:\", ci_elapsed)"
   ]
  },
  {
   "cell_type": "code",
   "execution_count": 15,
   "metadata": {
    "collapsed": false
   },
   "outputs": [
    {
     "name": "stdout",
     "output_type": "stream",
     "text": [
      "    (0 -> 1), (1 -> 1), (2 -> 1), (2 -> 2) occurs 10 times in this graph.\n",
      "    (0 -> 1), (2 -> 0), (0 -> 0), (2 -> 2) occurs 4 times in this graph.\n",
      "    (1 -> 2), (1 -> 0), (0 -> 2), (1 -> 1) occurs 1 times in this graph.\n",
      "    (0 -> 1), (1 -> 2), (2 -> 0), (0 -> 2), (1 -> 1) occurs 1 times in this graph.\n",
      "    (1 -> 2), (2 -> 0), (0 -> 0) occurs 2 times in this graph.\n",
      "    (0 -> 1), (0 -> 0), (1 -> 1), (2 -> 1) occurs 20 times in this graph.\n",
      "    (0 -> 1), (2 -> 0), (0 -> 2) occurs 535 times in this graph.\n",
      "    (1 -> 2), (2 -> 0), (1 -> 0), (0 -> 2), (2 -> 1) occurs 4 times in this graph.\n",
      "    (0 -> 1), (1 -> 2), (1 -> 0), (2 -> 0), (0 -> 2) occurs 8 times in this graph.\n",
      "    (2 -> 0), (1 -> 0), (0 -> 0), (2 -> 1) occurs 1 times in this graph.\n",
      "    (1 -> 2), (2 -> 0), (1 -> 1), (2 -> 2) occurs 2 times in this graph.\n",
      "    (1 -> 2), (1 -> 0), (0 -> 0), (1 -> 1) occurs 1 times in this graph.\n",
      "    (1 -> 2), (2 -> 0), (1 -> 0), (2 -> 1) occurs 31 times in this graph.\n",
      "    (0 -> 1), (1 -> 2), (0 -> 0), (1 -> 1) occurs 5 times in this graph.\n",
      "    (1 -> 0), (2 -> 1), (2 -> 2) occurs 26 times in this graph.\n",
      "    (0 -> 1), (1 -> 0), (0 -> 2), (2 -> 1) occurs 38 times in this graph.\n",
      "    (0 -> 1), (1 -> 2) occurs 4329 times in this graph.\n",
      "    (1 -> 2), (2 -> 0), (0 -> 0), (2 -> 1) occurs 1 times in this graph.\n",
      "    (0 -> 1), (1 -> 1) occurs 14 times in this graph.\n",
      "    (0 -> 1), (2 -> 0), (1 -> 0) occurs 710 times in this graph.\n",
      "    (1 -> 2), (1 -> 0), (1 -> 1), (2 -> 2) occurs 1 times in this graph.\n",
      "    (1 -> 0), (0 -> 2) occurs 6074 times in this graph.\n",
      "    (0 -> 1), (0 -> 2), (1 -> 1), (2 -> 1) occurs 1 times in this graph.\n",
      "    (0 -> 1), (2 -> 0), (2 -> 1) occurs 157 times in this graph.\n",
      "    (0 -> 2), (2 -> 1) occurs 3920 times in this graph.\n",
      "    (0 -> 1), (2 -> 0), (0 -> 2), (2 -> 1) occurs 24 times in this graph.\n",
      "    (0 -> 1), (2 -> 0), (1 -> 0), (0 -> 2) occurs 76 times in this graph.\n",
      "    (1 -> 2), (2 -> 0) occurs 3486 times in this graph.\n",
      "    (0 -> 1), (1 -> 2), (0 -> 2), (1 -> 1) occurs 1 times in this graph.\n",
      "    (1 -> 0), (1 -> 1), (2 -> 1), (2 -> 2) occurs 2 times in this graph.\n",
      "    (1 -> 2), (0 -> 2) occurs 14220 times in this graph.\n",
      "    (0 -> 1), (1 -> 2), (2 -> 0) occurs 18 times in this graph.\n",
      "    (0 -> 1), (2 -> 0), (1 -> 0), (2 -> 2) occurs 5 times in this graph.\n",
      "    (0 -> 1), (1 -> 1), (2 -> 1) occurs 154 times in this graph.\n",
      "    (0 -> 1), (0 -> 2), (2 -> 1) occurs 192 times in this graph.\n",
      "    (1 -> 2), (1 -> 0), (0 -> 0), (0 -> 2), (2 -> 1) occurs 1 times in this graph.\n",
      "    (0 -> 1), (0 -> 0), (2 -> 1), (2 -> 2) occurs 1 times in this graph.\n",
      "    (0 -> 2), (2 -> 1), (2 -> 2) occurs 23 times in this graph.\n",
      "    (0 -> 1), (1 -> 2), (1 -> 0) occurs 643 times in this graph.\n",
      "    (1 -> 2), (1 -> 0), (0 -> 0) occurs 185 times in this graph.\n",
      "    (0 -> 1), (2 -> 0), (1 -> 0), (0 -> 2), (2 -> 1) occurs 2 times in this graph.\n",
      "    (0 -> 1), (2 -> 0), (0 -> 0), (2 -> 1), (2 -> 2) occurs 2 times in this graph.\n",
      "    (1 -> 2), (1 -> 0), (0 -> 0), (2 -> 2) occurs 1 times in this graph.\n",
      "    (2 -> 1), (0 -> 2), (1 -> 1), (2 -> 2) occurs 2 times in this graph.\n",
      "    (1 -> 0), (0 -> 0), (2 -> 1) occurs 1 times in this graph.\n",
      "    (1 -> 0), (0 -> 0), (1 -> 1) occurs 2 times in this graph.\n",
      "    (2 -> 0), (1 -> 0), (2 -> 1) occurs 167 times in this graph.\n",
      "    (1 -> 2), (0 -> 0), (0 -> 2) occurs 77 times in this graph.\n",
      "    (1 -> 0), (1 -> 1), (2 -> 1) occurs 40 times in this graph.\n",
      "    (1 -> 2), (1 -> 0), (0 -> 2) occurs 179 times in this graph.\n",
      "    (2 -> 0), (0 -> 0), (2 -> 1) occurs 33 times in this graph.\n",
      "    (0 -> 1), (1 -> 2), (0 -> 2) occurs 181 times in this graph.\n",
      "    (0 -> 1), (0 -> 0), (1 -> 1), (2 -> 1), (2 -> 2) occurs 1 times in this graph.\n",
      "    (1 -> 2), (2 -> 0), (1 -> 0) occurs 150 times in this graph.\n",
      "    (2 -> 0), (0 -> 0), (2 -> 1), (2 -> 2) occurs 4 times in this graph.\n",
      "    (1 -> 0), (1 -> 1) occurs 19 times in this graph.\n",
      "    (1 -> 2), (2 -> 0), (2 -> 1) occurs 325 times in this graph.\n",
      "    (1 -> 2), (1 -> 0) occurs 13338 times in this graph.\n",
      "    (1 -> 2), (2 -> 0), (0 -> 2), (2 -> 1) occurs 52 times in this graph.\n",
      "    (0 -> 1), (1 -> 2), (2 -> 2) occurs 19 times in this graph.\n",
      "    (0 -> 1), (1 -> 2), (2 -> 0), (0 -> 2) occurs 42 times in this graph.\n",
      "    (2 -> 0), (2 -> 1) occurs 6144 times in this graph.\n",
      "    (1 -> 2), (2 -> 0), (1 -> 0), (0 -> 2) occurs 31 times in this graph.\n",
      "    (0 -> 1), (0 -> 0) occurs 12 times in this graph.\n",
      "    (0 -> 1), (0 -> 2), (1 -> 1) occurs 59 times in this graph.\n",
      "    (1 -> 2), (1 -> 0), (2 -> 1) occurs 421 times in this graph.\n",
      "    (1 -> 2), (2 -> 0), (0 -> 2), (1 -> 1) occurs 9 times in this graph.\n",
      "    (0 -> 1), (0 -> 2), (2 -> 2) occurs 144 times in this graph.\n",
      "    (0 -> 1), (1 -> 2), (0 -> 0) occurs 17 times in this graph.\n",
      "    (0 -> 1), (2 -> 1) occurs 20903 times in this graph.\n",
      "    (1 -> 0), (2 -> 1) occurs 3217 times in this graph.\n",
      "    (0 -> 1), (1 -> 2), (0 -> 2), (2 -> 1) occurs 43 times in this graph.\n",
      "    (0 -> 1), (0 -> 0), (2 -> 1) occurs 111 times in this graph.\n",
      "    (0 -> 1), (2 -> 0), (1 -> 1) occurs 86 times in this graph.\n",
      "    (1 -> 0), (0 -> 2), (1 -> 1) occurs 18 times in this graph.\n",
      "    (1 -> 2), (1 -> 0), (2 -> 2) occurs 43 times in this graph.\n",
      "    (0 -> 1), (2 -> 1), (2 -> 2) occurs 177 times in this graph.\n",
      "    (1 -> 2), (1 -> 0), (0 -> 0), (2 -> 1) occurs 1 times in this graph.\n",
      "    (0 -> 1), (0 -> 0), (1 -> 1) occurs 1 times in this graph.\n",
      "    (0 -> 1), (0 -> 0), (0 -> 2), (2 -> 2) occurs 1 times in this graph.\n",
      "    (0 -> 1), (2 -> 0), (0 -> 0) occurs 66 times in this graph.\n",
      "    (1 -> 0), (0 -> 0), (0 -> 2) occurs 58 times in this graph.\n",
      "    (0 -> 1), (0 -> 0), (0 -> 2) occurs 16 times in this graph.\n",
      "    (0 -> 1), (2 -> 0) occurs 6458 times in this graph.\n",
      "    (0 -> 0), (0 -> 2), (2 -> 1) occurs 5 times in this graph.\n",
      "    (1 -> 0), (0 -> 2), (2 -> 1) occurs 20 times in this graph.\n",
      "    (2 -> 0), (1 -> 0), (2 -> 1), (2 -> 2) occurs 1 times in this graph.\n",
      "    (1 -> 2), (1 -> 0), (1 -> 1) occurs 22 times in this graph.\n",
      "    (0 -> 1), (1 -> 2), (1 -> 1) occurs 45 times in this graph.\n",
      "    (0 -> 1), (1 -> 2), (1 -> 0), (0 -> 2), (2 -> 1) occurs 3 times in this graph.\n",
      "    (1 -> 0), (0 -> 2), (2 -> 2) occurs 21 times in this graph.\n",
      "    (2 -> 0), (1 -> 1), (2 -> 1), (2 -> 2) occurs 6 times in this graph.\n",
      "    (0 -> 1), (1 -> 2), (2 -> 1) occurs 793 times in this graph.\n",
      "    (0 -> 1), (1 -> 2), (2 -> 0), (0 -> 2), (2 -> 1) occurs 3 times in this graph.\n",
      "    (0 -> 1), (1 -> 2), (0 -> 0), (0 -> 2), (1 -> 1) occurs 1 times in this graph.\n",
      "    (2 -> 0), (0 -> 2), (2 -> 1) occurs 386 times in this graph.\n",
      "    (1 -> 2), (0 -> 2), (1 -> 1), (2 -> 2) occurs 5 times in this graph.\n",
      "    (1 -> 2), (2 -> 0), (1 -> 1) occurs 11 times in this graph.\n",
      "    (2 -> 0), (1 -> 0), (0 -> 2) occurs 782 times in this graph.\n",
      "    (0 -> 1), (1 -> 0), (2 -> 1), (2 -> 2) occurs 6 times in this graph.\n",
      "    (1 -> 2), (0 -> 2), (1 -> 1) occurs 55 times in this graph.\n",
      "    (0 -> 1), (1 -> 0), (2 -> 1) occurs 790 times in this graph.\n",
      "    (0 -> 1), (2 -> 0), (0 -> 2), (1 -> 1) occurs 1 times in this graph.\n",
      "    (1 -> 2), (0 -> 2), (2 -> 2) occurs 26 times in this graph.\n",
      "    (2 -> 0), (1 -> 0), (2 -> 2) occurs 98 times in this graph.\n",
      "    (0 -> 1), (2 -> 0), (2 -> 2) occurs 13 times in this graph.\n",
      "    (0 -> 1), (1 -> 0), (0 -> 2) occurs 662 times in this graph.\n",
      "    (2 -> 0), (2 -> 1), (2 -> 2) occurs 42 times in this graph.\n",
      "    (0 -> 1), (0 -> 2), (2 -> 1), (2 -> 2) occurs 1 times in this graph.\n",
      "    (1 -> 2), (2 -> 0), (0 -> 0), (2 -> 2) occurs 2 times in this graph.\n",
      "    (2 -> 0), (1 -> 0), (0 -> 0) occurs 199 times in this graph.\n",
      "    (0 -> 1), (1 -> 2), (0 -> 0), (2 -> 1) occurs 11 times in this graph.\n",
      "    (0 -> 1), (1 -> 2), (1 -> 0), (2 -> 0), (2 -> 1) occurs 5 times in this graph.\n",
      "    (2 -> 0), (1 -> 0), (0 -> 2), (2 -> 1) occurs 17 times in this graph.\n",
      "    (1 -> 0), (0 -> 0), (0 -> 2), (1 -> 1) occurs 1 times in this graph.\n",
      "    (2 -> 0), (1 -> 0), (0 -> 0), (1 -> 1) occurs 4 times in this graph.\n",
      "    (2 -> 0), (1 -> 0), (0 -> 2), (1 -> 1) occurs 1 times in this graph.\n",
      "    (2 -> 0), (1 -> 0) occurs 20381 times in this graph.\n",
      "    (1 -> 2), (0 -> 0), (0 -> 2), (2 -> 2) occurs 2 times in this graph.\n",
      "    (1 -> 2), (2 -> 0), (2 -> 2) occurs 14 times in this graph.\n",
      "    (0 -> 1), (2 -> 0), (1 -> 0), (2 -> 1) occurs 23 times in this graph.\n",
      "    (1 -> 0), (0 -> 0) occurs 26 times in this graph.\n",
      "    (1 -> 2), (0 -> 0), (0 -> 2), (2 -> 1) occurs 1 times in this graph.\n",
      "    (1 -> 2), (1 -> 0), (0 -> 2), (2 -> 1) occurs 27 times in this graph.\n",
      "    (0 -> 1), (1 -> 2), (1 -> 0), (0 -> 2) occurs 26 times in this graph.\n",
      "    (0 -> 1), (2 -> 0), (0 -> 0), (2 -> 1) occurs 1 times in this graph.\n",
      "    (0 -> 1), (1 -> 0), (0 -> 2), (2 -> 2) occurs 3 times in this graph.\n",
      "    (0 -> 1), (1 -> 2), (1 -> 0), (2 -> 0) occurs 57 times in this graph.\n",
      "    (0 -> 2), (1 -> 1), (2 -> 1) occurs 2 times in this graph.\n",
      "    (0 -> 1), (1 -> 2), (2 -> 0), (2 -> 1) occurs 28 times in this graph.\n",
      "    (2 -> 0), (1 -> 1), (2 -> 1) occurs 20 times in this graph.\n",
      "    (1 -> 2), (2 -> 0), (0 -> 2) occurs 699 times in this graph.\n",
      "    (0 -> 1), (1 -> 2), (1 -> 0), (2 -> 2) occurs 1 times in this graph.\n",
      "    (2 -> 0), (1 -> 0), (1 -> 1) occurs 55 times in this graph.\n",
      "    (0 -> 1), (0 -> 2) occurs 25134 times in this graph.\n",
      "    (0 -> 1), (1 -> 2), (1 -> 0), (2 -> 1) occurs 115 times in this graph.\n",
      "    (1 -> 2), (0 -> 2), (2 -> 1) occurs 516 times in this graph.\n",
      "    (2 -> 0), (1 -> 0), (0 -> 0), (2 -> 2) occurs 21 times in this graph.\n",
      "    All other triple motifs appear 0 times in this graph.\n",
      "\n",
      "Elapsed time: 16.463266265578568\n"
     ]
    }
   ],
   "source": [
    "start_time = timeit.default_timer()\n",
    "motifs = find_motifs(collapsed_graph)\n",
    "ci_elapsed = timeit.default_timer() - start_time\n",
    "\n",
    "for motif in motifs:\n",
    "    print(\"   \", str(motif)[11:-2].replace(\"),\", \"**\").replace(\", \", \" -> \").replace(\"**\", \"),\"), \"occurs\", motifs[motif], \"times in this graph.\")\n",
    "print(\"    All other triple motifs appear 0 times in this graph.\")\n",
    "print()\n",
    "print(\"Elapsed time:\", ci_elapsed)"
   ]
  },
  {
   "cell_type": "code",
   "execution_count": null,
   "metadata": {
    "collapsed": true
   },
   "outputs": [],
   "source": []
  },
  {
   "cell_type": "code",
   "execution_count": 24,
   "metadata": {
    "collapsed": false
   },
   "outputs": [
    {
     "data": {
      "image/svg+xml": [
       "<?xml version=\"1.0\" encoding=\"UTF-8\"?>\n",
       "<svg xmlns=\"http://www.w3.org/2000/svg\" xmlns:xlink=\"http://www.w3.org/1999/xlink\" width=\"200pt\" height=\"200pt\" viewBox=\"0 0 200 200\" version=\"1.1\">\n",
       "<defs>\n",
       "<g>\n",
       "<symbol overflow=\"visible\" id=\"glyph0-0\">\n",
       "<path style=\"stroke:none;\" d=\"M 0.703125 2.46875 L 0.703125 -9.875 L 7.703125 -9.875 L 7.703125 2.46875 Z M 1.484375 1.703125 L 6.921875 1.703125 L 6.921875 -9.078125 L 1.484375 -9.078125 Z \"/>\n",
       "</symbol>\n",
       "<symbol overflow=\"visible\" id=\"glyph0-1\">\n",
       "<path style=\"stroke:none;\" d=\"M 4.78125 -8.84375 L 2.90625 -3.765625 L 6.671875 -3.765625 Z M 4 -10.203125 L 5.578125 -10.203125 L 9.46875 0 L 8.03125 0 L 7.09375 -2.625 L 2.5 -2.625 L 1.5625 0 L 0.109375 0 Z \"/>\n",
       "</symbol>\n",
       "<symbol overflow=\"visible\" id=\"glyph0-2\">\n",
       "<path style=\"stroke:none;\" d=\"M 2.75 -4.875 L 2.75 -1.140625 L 4.96875 -1.140625 C 5.707031 -1.140625 6.253906 -1.289062 6.609375 -1.59375 C 6.972656 -1.90625 7.15625 -2.378906 7.15625 -3.015625 C 7.15625 -3.648438 6.972656 -4.117188 6.609375 -4.421875 C 6.253906 -4.722656 5.707031 -4.875 4.96875 -4.875 Z M 2.75 -9.078125 L 2.75 -6 L 4.796875 -6 C 5.472656 -6 5.972656 -6.125 6.296875 -6.375 C 6.628906 -6.625 6.796875 -7.007812 6.796875 -7.53125 C 6.796875 -8.050781 6.628906 -8.4375 6.296875 -8.6875 C 5.972656 -8.945312 5.472656 -9.078125 4.796875 -9.078125 Z M 1.375 -10.203125 L 4.90625 -10.203125 C 5.957031 -10.203125 6.765625 -9.984375 7.328125 -9.546875 C 7.898438 -9.109375 8.1875 -8.488281 8.1875 -7.6875 C 8.1875 -7.0625 8.039062 -6.5625 7.75 -6.1875 C 7.457031 -5.820312 7.03125 -5.59375 6.46875 -5.5 C 7.144531 -5.351562 7.671875 -5.046875 8.046875 -4.578125 C 8.421875 -4.117188 8.609375 -3.546875 8.609375 -2.859375 C 8.609375 -1.941406 8.296875 -1.234375 7.671875 -0.734375 C 7.054688 -0.242188 6.175781 0 5.03125 0 L 1.375 0 Z \"/>\n",
       "</symbol>\n",
       "<symbol overflow=\"visible\" id=\"glyph0-3\">\n",
       "<path style=\"stroke:none;\" d=\"M 0.765625 -7.65625 L 6.75 -7.65625 L 6.75 -6.515625 L 2.015625 -1 L 6.75 -1 L 6.75 0 L 0.609375 0 L 0.609375 -1.15625 L 5.328125 -6.65625 L 0.765625 -6.65625 Z \"/>\n",
       "</symbol>\n",
       "<symbol overflow=\"visible\" id=\"glyph0-4\">\n",
       "<path style=\"stroke:none;\" d=\"M 0.59375 -7.65625 L 1.84375 -7.65625 L 3.421875 -1.6875 L 4.984375 -7.65625 L 6.46875 -7.65625 L 8.046875 -1.6875 L 9.609375 -7.65625 L 10.859375 -7.65625 L 8.859375 0 L 7.375 0 L 5.734375 -6.28125 L 4.078125 0 L 2.59375 0 Z \"/>\n",
       "</symbol>\n",
       "</g>\n",
       "</defs>\n",
       "<g id=\"surface74\">\n",
       "<rect x=\"0\" y=\"0\" width=\"200\" height=\"200\" style=\"fill:rgb(100%,100%,100%);fill-opacity:1;stroke:none;\"/>\n",
       "<path style=\"fill:none;stroke-width:1;stroke-linecap:butt;stroke-linejoin:miter;stroke:rgb(26.666667%,26.666667%,26.666667%);stroke-opacity:1;stroke-miterlimit:10;\" d=\"M 145.980469 50.753906 C 141.855469 30.085938 128.769531 14.515625 108.300781 17.011719 \"/>\n",
       "<path style=\" stroke:none;fill-rule:nonzero;fill:rgb(26.666667%,26.666667%,26.666667%);fill-opacity:1;\" d=\"M 94.140625 18.734375 L 107.742188 12.410156 L 108.863281 21.613281 L 94.140625 18.734375 \"/>\n",
       "<path style=\"fill:none;stroke-width:1;stroke-linecap:butt;stroke-linejoin:miter;stroke:rgb(26.666667%,26.666667%,26.666667%);stroke-opacity:1;stroke-miterlimit:10;\" d=\"M 83.753906 20 C 87.878906 40.667969 100.964844 56.234375 121.433594 53.742188 \"/>\n",
       "<path style=\" stroke:none;fill-rule:nonzero;fill:rgb(26.666667%,26.666667%,26.666667%);fill-opacity:1;\" d=\"M 135.597656 52.015625 L 121.996094 58.34375 L 120.875 49.140625 L 135.597656 52.015625 \"/>\n",
       "<path style=\"fill:none;stroke-width:1;stroke-linecap:butt;stroke-linejoin:miter;stroke:rgb(26.666667%,26.666667%,26.666667%);stroke-opacity:1;stroke-miterlimit:10;\" d=\"M 145.980469 50.753906 L 173.824219 156.535156 \"/>\n",
       "<path style=\" stroke:none;fill-rule:nonzero;fill:rgb(26.666667%,26.666667%,26.666667%);fill-opacity:1;\" d=\"M 177.453125 170.328125 L 169.339844 157.714844 L 178.304688 155.355469 L 177.453125 170.328125 \"/>\n",
       "<path style=\"fill:none;stroke-width:1;stroke-linecap:butt;stroke-linejoin:miter;stroke:rgb(26.666667%,26.666667%,26.666667%);stroke-opacity:1;stroke-miterlimit:10;\" d=\"M 20 100.925781 L 68.738281 39.0625 \"/>\n",
       "<path style=\" stroke:none;fill-rule:nonzero;fill:rgb(26.666667%,26.666667%,26.666667%);fill-opacity:1;\" d=\"M 77.566406 27.855469 L 72.378906 41.929688 L 65.097656 36.191406 L 77.566406 27.855469 \"/>\n",
       "<path style=\"fill-rule:nonzero;fill:rgb(100%,0%,0%);fill-opacity:1;stroke-width:1;stroke-linecap:butt;stroke-linejoin:miter;stroke:rgb(0%,0%,0%);stroke-opacity:1;stroke-miterlimit:10;\" d=\"M 155.980469 50.753906 C 155.980469 56.273438 151.503906 60.753906 145.980469 60.753906 C 140.457031 60.753906 135.980469 56.273438 135.980469 50.753906 C 135.980469 45.230469 140.457031 40.753906 145.980469 40.753906 C 151.503906 40.753906 155.980469 45.230469 155.980469 50.753906 \"/>\n",
       "<path style=\"fill-rule:nonzero;fill:rgb(0%,0%,100%);fill-opacity:1;stroke-width:1;stroke-linecap:butt;stroke-linejoin:miter;stroke:rgb(0%,0%,0%);stroke-opacity:1;stroke-miterlimit:10;\" d=\"M 93.753906 20 C 93.753906 25.523438 89.277344 30 83.753906 30 C 78.234375 30 73.753906 25.523438 73.753906 20 C 73.753906 14.476562 78.234375 10 83.753906 10 C 89.277344 10 93.753906 14.476562 93.753906 20 \"/>\n",
       "<path style=\"fill-rule:nonzero;fill:rgb(100%,0%,0%);fill-opacity:1;stroke-width:1;stroke-linecap:butt;stroke-linejoin:miter;stroke:rgb(0%,0%,0%);stroke-opacity:1;stroke-miterlimit:10;\" d=\"M 30 100.925781 C 30 106.449219 25.523438 110.925781 20 110.925781 C 14.476562 110.925781 10 106.449219 10 100.925781 C 10 95.402344 14.476562 90.925781 20 90.925781 C 25.523438 90.925781 30 95.402344 30 100.925781 \"/>\n",
       "<path style=\"fill-rule:nonzero;fill:rgb(0%,0%,100%);fill-opacity:1;stroke-width:1;stroke-linecap:butt;stroke-linejoin:miter;stroke:rgb(0%,0%,0%);stroke-opacity:1;stroke-miterlimit:10;\" d=\"M 190 180 C 190 185.523438 185.523438 190 180 190 C 174.476562 190 170 185.523438 170 180 C 170 174.476562 174.476562 170 180 170 C 185.523438 170 190 174.476562 190 180 \"/>\n",
       "<g style=\"fill:rgb(0%,0%,0%);fill-opacity:1;\">\n",
       "  <use xlink:href=\"#glyph0-1\" x=\"141.191406\" y=\"57.503906\"/>\n",
       "</g>\n",
       "<g style=\"fill:rgb(100%,100%,100%);fill-opacity:1;\">\n",
       "  <use xlink:href=\"#glyph0-2\" x=\"78.761719\" y=\"26.753906\"/>\n",
       "</g>\n",
       "<g style=\"fill:rgb(0%,0%,0%);fill-opacity:1;\">\n",
       "  <use xlink:href=\"#glyph0-3\" x=\"16.320312\" y=\"106.40625\"/>\n",
       "</g>\n",
       "<g style=\"fill:rgb(100%,100%,100%);fill-opacity:1;\">\n",
       "  <use xlink:href=\"#glyph0-4\" x=\"174.273438\" y=\"185.480469\"/>\n",
       "</g>\n",
       "</g>\n",
       "</svg>\n"
      ],
      "text/plain": [
       "<igraph.drawing.Plot at 0x7f6ed349cbe0>"
      ]
     },
     "execution_count": 24,
     "metadata": {},
     "output_type": "execute_result"
    }
   ],
   "source": [
    "example3 = igraph.Graph(directed=True)\n",
    "count = 0\n",
    "for vertex in [\"A\", \"B\", \"z\", \"w\"]:\n",
    "    example3.add_vertex(name=vertex, \n",
    "                       #label=(vertex if vertex in (\"B\", \"A\") else \"\"),\n",
    "                       label=vertex,\n",
    "                       type=count%2, \n",
    "                       color=(\"blue\" if count%2 else \"red\"), \n",
    "                       label_color=(\"white\" if count%2 else \"black\"))\n",
    "    count += 1\n",
    "    \n",
    "example3.add_edges([('A', 'B'), ('B', 'A'), (\"A\", \"w\"), (\"z\", \"B\")])\n",
    "\n",
    "igraph.drawing.plot(example3, bbox=(200, 200), target=\"output3.pdf\")"
   ]
  },
  {
   "cell_type": "code",
   "execution_count": 25,
   "metadata": {
    "collapsed": false
   },
   "outputs": [
    {
     "name": "stdout",
     "output_type": "stream",
     "text": [
      "IGRAPH DN-T 4 4 -- \n",
      "+ attr: color (v), label (v), label_color (v), name (v), type (v)\n",
      "Bipartite: True\n",
      "0 A A\n",
      "1 B B\n",
      "2 z z\n",
      "3 w w\n",
      "\n",
      "IGRAPH DN-- 2 2 -- \n",
      "+ attr: label (v), name (v)\n"
     ]
    },
    {
     "data": {
      "image/svg+xml": [
       "<?xml version=\"1.0\" encoding=\"UTF-8\"?>\n",
       "<svg xmlns=\"http://www.w3.org/2000/svg\" xmlns:xlink=\"http://www.w3.org/1999/xlink\" width=\"100pt\" height=\"100pt\" viewBox=\"0 0 100 100\" version=\"1.1\">\n",
       "<defs>\n",
       "<g>\n",
       "<symbol overflow=\"visible\" id=\"glyph0-0\">\n",
       "<path style=\"stroke:none;\" d=\"M 0.703125 2.46875 L 0.703125 -9.875 L 7.703125 -9.875 L 7.703125 2.46875 Z M 1.484375 1.703125 L 6.921875 1.703125 L 6.921875 -9.078125 L 1.484375 -9.078125 Z \"/>\n",
       "</symbol>\n",
       "<symbol overflow=\"visible\" id=\"glyph0-1\">\n",
       "<path style=\"stroke:none;\" d=\"M 4.78125 -8.84375 L 2.90625 -3.765625 L 6.671875 -3.765625 Z M 4 -10.203125 L 5.578125 -10.203125 L 9.46875 0 L 8.03125 0 L 7.09375 -2.625 L 2.5 -2.625 L 1.5625 0 L 0.109375 0 Z \"/>\n",
       "</symbol>\n",
       "<symbol overflow=\"visible\" id=\"glyph0-2\">\n",
       "<path style=\"stroke:none;\" d=\"M 0.765625 -7.65625 L 6.75 -7.65625 L 6.75 -6.515625 L 2.015625 -1 L 6.75 -1 L 6.75 0 L 0.609375 0 L 0.609375 -1.15625 L 5.328125 -6.65625 L 0.765625 -6.65625 Z \"/>\n",
       "</symbol>\n",
       "</g>\n",
       "</defs>\n",
       "<g id=\"surface84\">\n",
       "<rect x=\"0\" y=\"0\" width=\"100\" height=\"100\" style=\"fill:rgb(100%,100%,100%);fill-opacity:1;stroke:none;\"/>\n",
       "<path style=\"fill:none;stroke-width:1;stroke-linecap:butt;stroke-linejoin:miter;stroke:rgb(26.666667%,26.666667%,26.666667%);stroke-opacity:1;stroke-miterlimit:10;\" d=\"M 45.605469 69.394531 C 45.605469 77.675781 38.890625 84.394531 30.605469 84.394531 C 22.324219 84.394531 15.605469 77.675781 15.605469 69.394531 C 15.605469 61.109375 22.324219 54.394531 30.605469 54.394531 C 38.890625 54.394531 45.605469 61.109375 45.605469 69.394531 \"/>\n",
       "<path style=\"fill:none;stroke-width:1;stroke-linecap:butt;stroke-linejoin:miter;stroke:rgb(26.666667%,26.666667%,26.666667%);stroke-opacity:1;stroke-miterlimit:10;\" d=\"M 80 20 L 37.160156 62.839844 \"/>\n",
       "<path style=\" stroke:none;fill-rule:nonzero;fill:rgb(26.666667%,26.666667%,26.666667%);fill-opacity:1;\" d=\"M 27.070312 72.929688 L 33.882812 59.5625 L 40.4375 66.117188 L 27.070312 72.929688 \"/>\n",
       "<path style=\"fill-rule:nonzero;fill:rgb(100%,0%,0%);fill-opacity:1;stroke-width:1;stroke-linecap:butt;stroke-linejoin:miter;stroke:rgb(0%,0%,0%);stroke-opacity:1;stroke-miterlimit:10;\" d=\"M 30 80 C 30 85.523438 25.523438 90 20 90 C 14.476562 90 10 85.523438 10 80 C 10 74.476562 14.476562 70 20 70 C 25.523438 70 30 74.476562 30 80 \"/>\n",
       "<path style=\"fill-rule:nonzero;fill:rgb(100%,0%,0%);fill-opacity:1;stroke-width:1;stroke-linecap:butt;stroke-linejoin:miter;stroke:rgb(0%,0%,0%);stroke-opacity:1;stroke-miterlimit:10;\" d=\"M 90 20 C 90 25.523438 85.523438 30 80 30 C 74.476562 30 70 25.523438 70 20 C 70 14.476562 74.476562 10 80 10 C 85.523438 10 90 14.476562 90 20 \"/>\n",
       "<g style=\"fill:rgb(0%,0%,0%);fill-opacity:1;\">\n",
       "  <use xlink:href=\"#glyph0-1\" x=\"15.210938\" y=\"86.753906\"/>\n",
       "</g>\n",
       "<g style=\"fill:rgb(0%,0%,0%);fill-opacity:1;\">\n",
       "  <use xlink:href=\"#glyph0-2\" x=\"76.320312\" y=\"25.480469\"/>\n",
       "</g>\n",
       "</g>\n",
       "</svg>\n"
      ],
      "text/plain": [
       "<igraph.drawing.Plot at 0x7f6ed338cb70>"
      ]
     },
     "execution_count": 25,
     "metadata": {},
     "output_type": "execute_result"
    }
   ],
   "source": [
    "print(example3.summary())\n",
    "print(\"Bipartite:\", example3.is_bipartite())\n",
    "\n",
    "for v in example3.vs:\n",
    "    print(v.index, v[\"name\"], v[\"label\"])\n",
    "print()\n",
    "\n",
    "collapsed_example3 = collapse(example3, False)\n",
    "print(collapsed_example3.summary())\n",
    "igraph.drawing.plot(collapsed_example3, bbox=(100, 100), target=\"output4.pdf\")"
   ]
  },
  {
   "cell_type": "code",
   "execution_count": null,
   "metadata": {
    "collapsed": true
   },
   "outputs": [],
   "source": []
  }
 ],
 "metadata": {
  "kernelspec": {
   "display_name": "Python 3",
   "language": "python",
   "name": "python3"
  },
  "language_info": {
   "codemirror_mode": {
    "name": "ipython",
    "version": 3
   },
   "file_extension": ".py",
   "mimetype": "text/x-python",
   "name": "python",
   "nbconvert_exporter": "python",
   "pygments_lexer": "ipython3",
   "version": "3.4.3"
  }
 },
 "nbformat": 4,
 "nbformat_minor": 1
}
