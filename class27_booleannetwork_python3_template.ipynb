{
 "cells": [
  {
   "cell_type": "markdown",
   "metadata": {},
   "source": [
    "# Class 27 - Boolean Networks\n"
   ]
  },
  {
   "cell_type": "code",
   "execution_count": 1,
   "metadata": {
    "collapsed": true
   },
   "outputs": [],
   "source": [
    "import numpy as np\n",
    "\n",
    "nodes = ['Cell Size', \n",
    "         'Cln3', \n",
    "         'MBF', \n",
    "         'Clb5,6', \n",
    "         'Mcm1/SFF', \n",
    "         'Swi5', \n",
    "         'Sic1', \n",
    "         'Clb1,2', \n",
    "         'Cdc20&Cdc14', \n",
    "         'Cdh1', \n",
    "         'Cln1,2', \n",
    "         'SBF']\n",
    "\n",
    "N = len(nodes)\n",
    "\n",
    "# define the transition matrix \n",
    "a = np.zeros([N, N], dtype=int)\n",
    "a[0,1] = 1\n",
    "a[1,1] = -1\n",
    "a[1,2] = 1\n",
    "a[1,11] = 1\n",
    "a[2,3] = 1\n",
    "a[3,4] = 1\n",
    "a[3,6] = -1\n",
    "a[3,7] = 1\n",
    "a[3,9] = -1\n",
    "a[4,4] = -1\n",
    "a[4,5] = 1\n",
    "a[4,7] = 1\n",
    "a[4,8] = 1\n",
    "a[5,5] = -1\n",
    "a[5,6] = 1\n",
    "a[6,3] = -1\n",
    "a[6,7] = -1\n",
    "a[7,2] = -1\n",
    "a[7,4] = 1\n",
    "a[7,5] = -1\n",
    "a[7,6] = -1\n",
    "a[7,8] = 1\n",
    "a[7,9] = -1\n",
    "a[7,11] = -1\n",
    "a[8,3] = -1\n",
    "a[8,5] = 1\n",
    "a[8,6] = 1\n",
    "a[8,7] = -1\n",
    "a[8,8] = -1\n",
    "a[8,9] = 1\n",
    "a[9,7] = -1\n",
    "a[10,6] = -1\n",
    "a[10,9] = -1\n",
    "a[10,10] = -1\n",
    "a[11,10] = 1\n",
    "a = np.matrix(a)"
   ]
  },
  {
   "cell_type": "markdown",
   "metadata": {},
   "source": [
    "Read the file \"Boolean_fixed_points.txt\" (a tab-delimited file of ones and zeroes, with a header) and assign to a numpy matrix \"fixed_points\".  Make a vector of zeroes called \"basin_counts\" that is the same length as the number of rows of \"fixed_points\"."
   ]
  },
  {
   "cell_type": "code",
   "execution_count": 2,
   "metadata": {
    "collapsed": false
   },
   "outputs": [
    {
     "name": "stdout",
     "output_type": "stream",
     "text": [
      "[[0 0 0 0 0 0 1 0 0 1 0 0]\n",
      " [0 0 1 0 0 0 1 0 0 1 0 0]\n",
      " [1 1 1 1 1 1 0 1 1 0 1 1]\n",
      " [0 0 0 0 0 0 0 0 0 0 1 1]\n",
      " [1 1 0 0 1 1 0 1 1 0 1 1]\n",
      " [0 0 1 0 0 0 1 0 0 0 0 0]\n",
      " [1 1 1 1 1 1 0 1 1 0 0 0]\n",
      " [0 0 0 0 0 0 0 0 0 1 0 0]\n",
      " [1 1 1 0 1 1 0 1 1 0 1 1]\n",
      " [0 0 0 0 0 0 1 0 0 0 0 0]\n",
      " [0 0 0 0 0 0 0 0 0 0 0 0]]\n",
      "(11, 12)\n"
     ]
    }
   ],
   "source": [
    "fixed_points = None\n",
    "\n",
    "with open(\"shared/Boolean_fixed_points.txt\", \"r\") as f:\n",
    "    f.readline()\n",
    "    data = f.read();\n",
    "    data = data.replace(\"\\n\", \";\\n\")\n",
    "    fixed_points = np.matrix(data[:-2])\n",
    "\n",
    "print(fixed_points)\n",
    "print(fixed_points.shape)"
   ]
  },
  {
   "cell_type": "markdown",
   "metadata": {},
   "source": [
    "Define a function `hamming.dist` that gives the hamming distance between two states of the Boolean network (as numpy arrays of ones and zeroes)"
   ]
  },
  {
   "cell_type": "code",
   "execution_count": 3,
   "metadata": {
    "collapsed": true
   },
   "outputs": [],
   "source": [
    "def hamming_dist(x1, x2):\n",
    "    return np.sum(np.abs(x1-x2))"
   ]
  },
  {
   "cell_type": "markdown",
   "metadata": {},
   "source": [
    "Define a function `evolve` that takes the network from one Boolean vector state to another Boolean vector state"
   ]
  },
  {
   "cell_type": "code",
   "execution_count": 4,
   "metadata": {
    "collapsed": true
   },
   "outputs": [],
   "source": [
    "def evolve(state):\n",
    "    result = (state*a).A1\n",
    "    \n",
    "    result[result > 0] = 1\n",
    "    \n",
    "    for i in range(len(result)):\n",
    "        if result[i] == 0:\n",
    "            result[i] = state[i]\n",
    "            \n",
    "    result[result < 0] = 0\n",
    "    \n",
    "    return result"
   ]
  },
  {
   "cell_type": "markdown",
   "metadata": {},
   "source": [
    "Write a function that runs 10,000 simulations of the network. In each simulation, the procedure is:\n",
    "- create a random binary vector of length 12, and call that vector `state`\n",
    "- iteratively call \"evolve\", passing the `state` to evolve and then updating `state` with the return value from `evolve`\n",
    "- check if `state` changes in the last call to `evolve`; if it does not, then you have reached a fixed point; stop iterating\n",
    "- compare the state to the rows of `fixed_points`; for the unique row `i` for which you find a match, increment the element in position `i` of `basin_counts`\n",
    "- print out `basin_counts`"
   ]
  },
  {
   "cell_type": "code",
   "execution_count": 6,
   "metadata": {
    "collapsed": false
   },
   "outputs": [
    {
     "name": "stdout",
     "output_type": "stream",
     "text": [
      "Basin counts: [8574  543    0  746    0   40    0    5    0   58   34    0]\n"
     ]
    }
   ],
   "source": [
    "import random\n",
    "\n",
    "basin_counts = np.zeros(fixed_points.shape[0]+1, dtype=int)\n",
    "\n",
    "for test in range(10000):\n",
    "    random_vector = [0]\n",
    "    while len(random_vector) < 12:\n",
    "        random_vector.append(random.choice([0, 1]))\n",
    "        \n",
    "    state = np.array(random_vector)\n",
    "    next_state = evolve(state)\n",
    "        \n",
    "    while hamming_dist(state, next_state) != 0:\n",
    "        state = next_state\n",
    "        next_state = evolve(state)\n",
    "        \n",
    "    for i in range(len(fixed_points)):\n",
    "        if np.array_equal(state, fixed_points[i].A1):\n",
    "            basin_counts[i] += 1\n",
    "            break\n",
    "        \n",
    "print(\"Basin counts:\", basin_counts)"
   ]
  },
  {
   "cell_type": "code",
   "execution_count": null,
   "metadata": {
    "collapsed": true
   },
   "outputs": [],
   "source": []
  },
  {
   "cell_type": "code",
   "execution_count": null,
   "metadata": {
    "collapsed": true
   },
   "outputs": [],
   "source": []
  }
 ],
 "metadata": {
  "kernelspec": {
   "display_name": "Python 3",
   "language": "python",
   "name": "python3"
  },
  "language_info": {
   "codemirror_mode": {
    "name": "ipython",
    "version": 3
   },
   "file_extension": ".py",
   "mimetype": "text/x-python",
   "name": "python",
   "nbconvert_exporter": "python",
   "pygments_lexer": "ipython3",
   "version": "3.4.3"
  }
 },
 "nbformat": 4,
 "nbformat_minor": 1
}
