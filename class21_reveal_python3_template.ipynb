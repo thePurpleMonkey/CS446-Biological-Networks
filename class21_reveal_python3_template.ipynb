{
 "cells": [
  {
   "cell_type": "markdown",
   "metadata": {},
   "source": [
    "# Class 21:  joint entropy and the REVEAL algorithm"
   ]
  },
  {
   "cell_type": "markdown",
   "metadata": {},
   "source": [
    "We'll use the bladder cancer gene expression data to test out the REVEAL algorithm. First, we'll load the data and filter to include only genes for which the median log2 expression level is > 12.  That should give us 164 genes to work with."
   ]
  },
  {
   "cell_type": "code",
   "execution_count": 1,
   "metadata": {
    "collapsed": false
   },
   "outputs": [
    {
     "name": "stdout",
     "output_type": "stream",
     "text": [
      "(4473, 414)\n"
     ]
    }
   ],
   "source": [
    "import pandas\n",
    "gene_matrix_for_network_df = pandas.read_csv(\"shared/bladder_cancer_genes_tcga.txt\", sep=\"\\t\")\n",
    "gene_matrix_for_network = gene_matrix_for_network_df.as_matrix()\n",
    "print(gene_matrix_for_network.shape)"
   ]
  },
  {
   "cell_type": "markdown",
   "metadata": {},
   "source": [
    "Filter the matrix to include only rows for which the column-wise median is > 12; matrix should now be 164 x 414; this is not strictly necessary but will help prevent us from over-burderning the EC2 instance and it will enable us to easily compute the partial correlation matrix using the inverse of the covariance matrix. Print the size of the filtered matrix, as a sanity check."
   ]
  },
  {
   "cell_type": "code",
   "execution_count": 2,
   "metadata": {
    "collapsed": false
   },
   "outputs": [
    {
     "name": "stdout",
     "output_type": "stream",
     "text": [
      "(164, 414)\n"
     ]
    }
   ],
   "source": [
    "import numpy\n",
    "gene_matrix_np = numpy.array(gene_matrix_for_network)\n",
    "genes_keep = numpy.where(numpy.median(gene_matrix_np, axis=1) > 12)\n",
    "matrix_filt = gene_matrix_np[genes_keep, ][0]\n",
    "print(matrix_filt.shape)\n",
    "N = matrix_filt.shape[0]\n",
    "M = matrix_filt.shape[1]"
   ]
  },
  {
   "cell_type": "markdown",
   "metadata": {},
   "source": [
    "Binarize the gene expression matrix using the mean value as a breakpoint, turning it into a NxM matrix of logicals (true/false).  Call it `gene_matrix_binarized`. Print out the dimensions of this matrix."
   ]
  },
  {
   "cell_type": "code",
   "execution_count": 14,
   "metadata": {
    "collapsed": false
   },
   "outputs": [
    {
     "name": "stdout",
     "output_type": "stream",
     "text": [
      "[ 1.  1.  1.  1.  1.  1.  1.  0.  0.  0.  0.  0.  0.  1.  1.]\n",
      "Matrix mean: 0.468761046306\n"
     ]
    }
   ],
   "source": [
    "print(matrix_filt[0][0:15])\n",
    "gene_matrix_binarized = numpy.array(matrix_filt, dtype=bool)\n",
    "mean = matrix_filt.mean()\n",
    "print(\"Matrix mean:\", mean)\n",
    "\n",
    "for n in range(N):\n",
    "    for m in range(M):\n",
    "        gene_matrix_binarized[n][m] = matrix_filt[n][m] > mean"
   ]
  },
  {
   "cell_type": "markdown",
   "metadata": {},
   "source": [
    "Check a test case for six entries:"
   ]
  },
  {
   "cell_type": "code",
   "execution_count": 17,
   "metadata": {
    "collapsed": false
   },
   "outputs": [
    {
     "name": "stdout",
     "output_type": "stream",
     "text": [
      "[ True  True  True  True  True  True  True False False False False False]\n"
     ]
    }
   ],
   "source": [
    "print(gene_matrix_binarized[0][0:12])"
   ]
  },
  {
   "cell_type": "markdown",
   "metadata": {},
   "source": [
    "The core part of the REVEAL algorithm is a function that can compute the joint entropy of a collection of binary (TRUE/FALSE) vectors X1, X2, ..., Xn (where length(X1) = length(Xi) = M).\n",
    "Write a function `entropy_multiple_vecs` that takes as its input a nxM matrix (where n is the number of variables, i.e., genes, and M is the number of samples in which gene expression was measured). The function should use the log2 definition of the Shannon entropy. It should return the joint entropy H(X1, X2, ..., Xn) as a scalar numeric value. I have created a skeleton version of this function for you, in which you can fill in the code. I have also created some test code that you can use to test your function, below."
   ]
  },
  {
   "cell_type": "code",
   "execution_count": 54,
   "metadata": {
    "collapsed": false
   },
   "outputs": [
    {
     "name": "stdout",
     "output_type": "stream",
     "text": [
      "3: 4.0828541011059665\n",
      "4: 6.456595821500659\n"
     ]
    }
   ],
   "source": [
    "from math import log2\n",
    "\n",
    "def entropy_multiple_vecs(binary_vecs):\n",
    "    table = {}\n",
    "    for i in range(len(binary_vecs[0])):\n",
    "        key = \"\"\n",
    "        for j in range(len(binary_vecs)):\n",
    "            key += str(binary_vecs[j][i])\n",
    "        \n",
    "        table[key] = table.get(key, 0) + 1\n",
    "        \n",
    "    #print(table)\n",
    "    #print(\"Sum:\", sum(table.values()))\n",
    "    \n",
    "    for key in table:\n",
    "        table[key] /= N\n",
    "        \n",
    "    #print(table)\n",
    "    \n",
    "    result = 0\n",
    "    \n",
    "    for key in table:\n",
    "        result += table[key] * log2(table[key])\n",
    "        \n",
    "    return -result\n",
    "    \n",
    "print(\"3 rows:\", entropy_multiple_vecs(gene_matrix_binarized[0:3,]))\n",
    "print(\"4 rows:\", entropy_multiple_vecs(gene_matrix_binarized[0:4,]))"
   ]
  },
  {
   "cell_type": "markdown",
   "metadata": {},
   "source": [
    "This test case should produce the value 3.938:"
   ]
  },
  {
   "cell_type": "code",
   "execution_count": 55,
   "metadata": {
    "collapsed": false
   },
   "outputs": [
    {
     "name": "stdout",
     "output_type": "stream",
     "text": [
      "4.0828541011059665\n"
     ]
    }
   ],
   "source": [
    "print(entropy_multiple_vecs(gene_matrix_binarized[0:3,]))"
   ]
  },
  {
   "cell_type": "code",
   "execution_count": null,
   "metadata": {
    "collapsed": true
   },
   "outputs": [],
   "source": []
  }
 ],
 "metadata": {
  "kernelspec": {
   "display_name": "Python 3",
   "language": "python",
   "name": "python3"
  },
  "language_info": {
   "codemirror_mode": {
    "name": "ipython",
    "version": 3
   },
   "file_extension": ".py",
   "mimetype": "text/x-python",
   "name": "python",
   "nbconvert_exporter": "python",
   "pygments_lexer": "ipython3",
   "version": "3.4.3"
  }
 },
 "nbformat": 4,
 "nbformat_minor": 1
}
