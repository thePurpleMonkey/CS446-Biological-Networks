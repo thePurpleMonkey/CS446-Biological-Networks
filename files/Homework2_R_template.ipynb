{
 "cells": [
  {
   "cell_type": "markdown",
   "metadata": {},
   "source": [
    "# CS446/519 Homework Assignment 2"
   ]
  },
  {
   "cell_type": "markdown",
   "metadata": {},
   "source": [
    "load in the E. coli operon-operon network (gene regulatory network) data in edge-list format; display the first six lines of data as a sanity check. Use `read.table`."
   ]
  },
  {
   "cell_type": "code",
   "execution_count": 1,
   "metadata": {
    "collapsed": false
   },
   "outputs": [
    {
     "data": {
      "text/html": [
       "<table>\n",
       "<thead><tr><th scope=col>V1</th><th scope=col>V2</th></tr></thead>\n",
       "<tbody>\n",
       "\t<tr><td>ADA </td><td>AIDB</td></tr>\n",
       "\t<tr><td>ADIY</td><td>GADX</td></tr>\n",
       "\t<tr><td>ALLR</td><td>ALLS</td></tr>\n",
       "\t<tr><td>ARCA</td><td>BETI</td></tr>\n",
       "\t<tr><td>ARCA</td><td>DPIA</td></tr>\n",
       "\t<tr><td>ARCA</td><td>FNR </td></tr>\n",
       "</tbody>\n",
       "</table>\n"
      ],
      "text/latex": [
       "\\begin{tabular}{r|ll}\n",
       " V1 & V2\\\\\n",
       "\\hline\n",
       "\t ADA  & AIDB\\\\\n",
       "\t ADIY & GADX\\\\\n",
       "\t ALLR & ALLS\\\\\n",
       "\t ARCA & BETI\\\\\n",
       "\t ARCA & DPIA\\\\\n",
       "\t ARCA & FNR \\\\\n",
       "\\end{tabular}\n"
      ],
      "text/plain": [
       "  V1   V2  \n",
       "1 ADA  AIDB\n",
       "2 ADIY GADX\n",
       "3 ALLR ALLS\n",
       "4 ARCA BETI\n",
       "5 ARCA DPIA\n",
       "6 ARCA FNR "
      ]
     },
     "metadata": {},
     "output_type": "display_data"
    }
   ],
   "source": []
  },
  {
   "cell_type": "markdown",
   "metadata": {},
   "source": [
    "Make an igraph directed graph from the network; print a graph summary as a sanity check.  You will need to use `graph_from_data_frame` and `summary`."
   ]
  },
  {
   "cell_type": "code",
   "execution_count": 3,
   "metadata": {
    "collapsed": false
   },
   "outputs": [
    {
     "name": "stderr",
     "output_type": "stream",
     "text": [
      "\n",
      "Attaching package: 'igraph'\n",
      "\n",
      "The following objects are masked from 'package:stats':\n",
      "\n",
      "    decompose, spectrum\n",
      "\n",
      "The following object is masked from 'package:base':\n",
      "\n",
      "    union\n",
      "\n"
     ]
    },
    {
     "name": "stdout",
     "output_type": "stream",
     "text": [
      "IGRAPH DN-- 133 261 -- \n",
      "+ attr: name (v/c)\n"
     ]
    }
   ],
   "source": []
  },
  {
   "cell_type": "markdown",
   "metadata": {},
   "source": [
    "Obtain the counts of all three-vertex motifs in the graph. You will need to use the `motifs` function in igraph."
   ]
  },
  {
   "cell_type": "code",
   "execution_count": 15,
   "metadata": {
    "collapsed": false
   },
   "outputs": [
    {
     "data": {
      "text/html": [
       "<ol class=list-inline>\n",
       "\t<li>NA</li>\n",
       "\t<li>NA</li>\n",
       "\t<li>275</li>\n",
       "\t<li>NA</li>\n",
       "\t<li>125</li>\n",
       "\t<li>39</li>\n",
       "\t<li>1676</li>\n",
       "\t<li>47</li>\n",
       "\t<li>25</li>\n",
       "\t<li>68</li>\n",
       "\t<li>0</li>\n",
       "\t<li>0</li>\n",
       "\t<li>2</li>\n",
       "\t<li>10</li>\n",
       "\t<li>1</li>\n",
       "\t<li>1</li>\n",
       "</ol>\n"
      ],
      "text/latex": [
       "\\begin{enumerate*}\n",
       "\\item NA\n",
       "\\item NA\n",
       "\\item 275\n",
       "\\item NA\n",
       "\\item 125\n",
       "\\item 39\n",
       "\\item 1676\n",
       "\\item 47\n",
       "\\item 25\n",
       "\\item 68\n",
       "\\item 0\n",
       "\\item 0\n",
       "\\item 2\n",
       "\\item 10\n",
       "\\item 1\n",
       "\\item 1\n",
       "\\end{enumerate*}\n"
      ],
      "text/markdown": [
       "1. NA\n",
       "2. NA\n",
       "3. 275\n",
       "4. NA\n",
       "5. 125\n",
       "6. 39\n",
       "7. 1676\n",
       "8. 47\n",
       "9. 25\n",
       "10. 68\n",
       "11. 0\n",
       "12. 0\n",
       "13. 2\n",
       "14. 10\n",
       "15. 1\n",
       "16. 1\n",
       "\n",
       "\n"
      ],
      "text/plain": [
       " [1]   NA   NA  275   NA  125   39 1676   47   25   68    0    0    2   10    1\n",
       "[16]    1"
      ]
     },
     "metadata": {},
     "output_type": "display_data"
    }
   ],
   "source": []
  },
  {
   "cell_type": "markdown",
   "metadata": {},
   "source": [
    "Get motif counts for 10,000 different randomizations of the network.  You will need to use `replicate`, `motifs`, and `rewire` with the `loops=FALSE` option. Use niter=1000."
   ]
  },
  {
   "cell_type": "code",
   "execution_count": 11,
   "metadata": {
    "collapsed": true
   },
   "outputs": [],
   "source": []
  },
  {
   "cell_type": "markdown",
   "metadata": {},
   "source": [
    "For each motif type, compute the mean and standard deviation of the counts of appearances of the motif in each of the 10,000 randomly rewired graphs. You will need to use the `apply` function."
   ]
  },
  {
   "cell_type": "code",
   "execution_count": 12,
   "metadata": {
    "collapsed": true
   },
   "outputs": [],
   "source": []
  },
  {
   "cell_type": "markdown",
   "metadata": {},
   "source": [
    "For each motif type, obtain the Z score for the number of appearances of the motif in the real network, vs. in the randomly rewired networks."
   ]
  },
  {
   "cell_type": "code",
   "execution_count": 26,
   "metadata": {
    "collapsed": false
   },
   "outputs": [],
   "source": []
  },
  {
   "cell_type": "markdown",
   "metadata": {},
   "source": [
    "Print out the mean number of FFLs on random networks, the number of FFLs on the real network, and the Z-score for the FFL count on the real network vs. the random networks. The FFL should be in the 8th element of the vector returned from `motifs`."
   ]
  },
  {
   "cell_type": "code",
   "execution_count": 27,
   "metadata": {
    "collapsed": false
   },
   "outputs": [
    {
     "name": "stdout",
     "output_type": "stream",
     "text": [
      "[1] \"Mean number of FFLs on random networks: 57.247300\"\n",
      "[1] \"Number of FFLs in the real network: 47\"\n",
      "[1] \"Z-score for FFL count on real network vs. random networks: -1.098823\"\n"
     ]
    }
   ],
   "source": []
  },
  {
   "cell_type": "markdown",
   "metadata": {},
   "source": [
    "Figure out the isomorphism class of the network shown in the assignment PDF.  You'll want to build an edge-list matrix using `rbind` and then an ingraph using `graph_data_frame`, and then use `graph.isoclass`."
   ]
  },
  {
   "cell_type": "code",
   "execution_count": 14,
   "metadata": {
    "collapsed": true
   },
   "outputs": [],
   "source": []
  },
  {
   "cell_type": "markdown",
   "metadata": {},
   "source": [
    "Compute the number of appearances of this four-vertex motif in the real network, using `motifs` with `size=4`."
   ]
  },
  {
   "cell_type": "code",
   "execution_count": 20,
   "metadata": {
    "collapsed": false
   },
   "outputs": [
    {
     "name": "stdout",
     "output_type": "stream",
     "text": [
      "[1] \"Count of the four-vertex DOR motif: 297\"\n"
     ]
    }
   ],
   "source": []
  },
  {
   "cell_type": "markdown",
   "metadata": {},
   "source": [
    "Get the mean and standard deviation for the count of four-vertex motifs in 10,000 randomly rewired graphs.  You'll need to use `replicate` and `rewire`."
   ]
  },
  {
   "cell_type": "code",
   "execution_count": 21,
   "metadata": {
    "collapsed": false
   },
   "outputs": [
    {
     "name": "stdout",
     "output_type": "stream",
     "text": [
      "[1] \"Count of the four-vertex DOR motif: 297\"\n",
      "[1] \"Average count of the four-vertex DOR motif for random networks: 177.330700\"\n",
      "[1] \"Standard deviation of the count of the four-vertex DOR motif for random networks: 37.732529\"\n",
      "[1] \"Z-score for DOR motif count in real vs. random networks:  3.171516\"\n"
     ]
    }
   ],
   "source": []
  },
  {
   "cell_type": "code",
   "execution_count": null,
   "metadata": {
    "collapsed": true
   },
   "outputs": [],
   "source": []
  }
 ],
 "metadata": {
  "kernelspec": {
   "display_name": "R",
   "language": "R",
   "name": "ir"
  },
  "language_info": {
   "codemirror_mode": "r",
   "file_extension": ".r",
   "mimetype": "text/x-r-source",
   "name": "R",
   "pygments_lexer": "r",
   "version": "3.2.2"
  }
 },
 "nbformat": 4,
 "nbformat_minor": 1
}
