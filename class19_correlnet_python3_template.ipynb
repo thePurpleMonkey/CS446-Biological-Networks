{
 "cells": [
  {
   "cell_type": "markdown",
   "metadata": {},
   "source": [
    "# CS446/519 - Class Session 19 - Correlation network\n",
    "\n",
    "In this class session we are going to analyze gene expression data from a human bladder cancer cohort. We will load a data matrix of expression measurements of 4,473 genes in 414 different bladder cancer samples. These genes have been selected because they are differentially expressed between normal bladder and bladder cancer (thus more likely to have a function in bladder cancer specifically), but the columns in the data matrix are restricted to bladder cancer samples (not normal bladder) because we want to obtain a network representing variation across cancers. The measurements in the matrix have already been normalized to account for inter-sample heterogeneity and then log2 transformed. Our job is to compute Pearson correlation coefficients between all pairs of genes, obtain Fisher-transformed z-scores for all pairs of genes, test each pair of genes for significance of the z score, adjust for multiple hypothesis testing, filter to eliminate any pair for which R < 0.75 or Padj > 0.01, load the graph into igraph, and plot the degree distribution on log-log scale.  Does the network look to be scale-free?  What is it's best-fit scaling exponent?"
   ]
  },
  {
   "cell_type": "markdown",
   "metadata": {},
   "source": [
    "Read the tab-deliminted text file of gene expression measurements (rows correspond to genes, columns correspond to bladder tumor samples). (use Pandas, `pandas.read.csv`, and `as_matrix`). As always, sanity check that the file that you loaded has the expected dimensions (4,473 x 414) using `shape`."
   ]
  },
  {
   "cell_type": "code",
   "execution_count": 18,
   "metadata": {
    "collapsed": true
   },
   "outputs": [],
   "source": [
    "import igraph, numpy, math"
   ]
  },
  {
   "cell_type": "code",
   "execution_count": 7,
   "metadata": {
    "collapsed": false
   },
   "outputs": [
    {
     "name": "stdout",
     "output_type": "stream",
     "text": [
      "(4473, 414)\n"
     ]
    }
   ],
   "source": [
    "SKIP_FIRST_LINE = True\n",
    "matrix = []\n",
    "\n",
    "with open(\"shared/bladder_cancer_genes_tcga.txt\", \"r\") as f:\n",
    "    for line in f:\n",
    "        if SKIP_FIRST_LINE:\n",
    "            SKIP_FIRST_LINE = False\n",
    "            continue\n",
    "            \n",
    "        matrix.append([float(i) for i in line.rstrip().split()[1:]])\n",
    "        \n",
    "print(\"({}, {})\".format(len(matrix), len(matrix[0])))"
   ]
  },
  {
   "cell_type": "markdown",
   "metadata": {},
   "source": [
    "Compute the 4,473 x 4,473 matrix of gene-gene Pearson correlation coefficients, using `numpy.corrcoef` (this function treats each row as a random variable, so you don't have to do any transposing of the matrix, unlike the situation in R). Set the diagonal elements and upper-triangle of the matrix to zero (you will want to use the functions `numpy.fill_diagonal` and `*= numpy.tri(*gene_matrix_for_network_cor.shape)`). Get the row/col indices of the entries of the matrix for which R >= 0.75 (you will want to use the functions `numpy.where`)."
   ]
  },
  {
   "cell_type": "code",
   "execution_count": 16,
   "metadata": {
    "collapsed": false
   },
   "outputs": [
    {
     "name": "stdout",
     "output_type": "stream",
     "text": [
      "[[ 0.          0.          0.         ...,  0.          0.          0.        ]\n",
      " [ 0.23394428  0.          0.         ...,  0.          0.          0.        ]\n",
      " [ 0.93544432  0.27429712  0.         ...,  0.          0.          0.        ]\n",
      " ..., \n",
      " [ 0.47273749 -0.03824446  0.42969107 ...,  0.          0.          0.        ]\n",
      " [ 0.3747331   0.04706808  0.38936649 ...,  0.80601176  0.          0.        ]\n",
      " [ 0.43588885  0.01293934  0.35634088 ...,  0.80764181  0.8525339   0.        ]]\n"
     ]
    }
   ],
   "source": [
    "coef_matrix = numpy.corrcoef(matrix)\n",
    "for i in range(len(coef_matrix)):\n",
    "    for j in range(len(coef_matrix)-i):\n",
    "        coef_matrix[i][i+j] = 0\n",
    "        \n",
    "indices = set()\n",
    "        \n",
    "for i in range(len(coef_matrix)):\n",
    "    for j in range(len(coef_matrix[0])):\n",
    "        if coef_matrix[i][j] > .75:\n",
    "            indices.add((i, j))\n",
    "    \n",
    "print(coef_matrix)\n",
    "#print(indices)"
   ]
  },
  {
   "cell_type": "markdown",
   "metadata": {},
   "source": [
    "Fisher-transform the correlation coefficients for which R >= 0.75, to get z scores as a numeric vector `z_scores`. Delete the correlation matrix object in order to save memory (we won't need it from here on out)."
   ]
  },
  {
   "cell_type": "code",
   "execution_count": 19,
   "metadata": {
    "collapsed": false
   },
   "outputs": [],
   "source": [
    "z_scores = []\n",
    "\n",
    "for x, y in indices:\n",
    "    if coef_matrix[x][y] < .75:\n",
    "        print(\"ERROR\")\n",
    "    z_scores.append(math.atanh(coef_matrix[x][y]))\n",
    "    \n",
    "del coef_matrix"
   ]
  },
  {
   "cell_type": "markdown",
   "metadata": {},
   "source": [
    "Assume that under the null hypothesis that two genes are independent, then sqrt(M-3)z for the pair of genes is an independent sample from the normal distribution with zero mean and unit variance, where M is the number of samples used to compute the Pearson correlation coefficient (i.e., M = 414). For each entry in `z_scores` compute a P value as the area under two tails of the normal distribution N(x),  where the two tails are x < -sqrt(M-3)z and x > sqrt(M-3)z. (You'll know you are doing it right if z=0 means you get a P value of 1).  You will want to use the functions `numpy.abs` and `scipy.stats.norm.cdf`, as well as the `**` operator (in order to compute the square root)."
   ]
  },
  {
   "cell_type": "code",
   "execution_count": 13,
   "metadata": {
    "collapsed": false
   },
   "outputs": [],
   "source": []
  },
  {
   "cell_type": "markdown",
   "metadata": {},
   "source": [
    "Adjust the P values for multiple hypothesis testing, using the `statsmodels.sandbox.stats.multicomp.multipletests` function wth `method=\"fdr_bh\"`"
   ]
  },
  {
   "cell_type": "code",
   "execution_count": 14,
   "metadata": {
    "collapsed": false
   },
   "outputs": [],
   "source": []
  },
  {
   "cell_type": "markdown",
   "metadata": {},
   "source": [
    "Verify that we don't need to drop any entries due to the adjusted P value not being small enough (use `numpy.where` and `len`); this should produce zero since we have M=414 samples per gene."
   ]
  },
  {
   "cell_type": "code",
   "execution_count": 15,
   "metadata": {
    "collapsed": false
   },
   "outputs": [
    {
     "data": {
      "text/plain": [
       "0"
      ]
     },
     "execution_count": 15,
     "metadata": {},
     "output_type": "execute_result"
    }
   ],
   "source": []
  },
  {
   "cell_type": "markdown",
   "metadata": {},
   "source": [
    "Make an undirected graph from the row/column indices of the (upper-triangle) gene pairs whose  correlations were above our threshold (you'll want to use the `zip`, `tolsit`, `list`, and and `igraph.Graph.TupleList` functions for this). Print a summary of the network, as a sanity check, using the `summary` method."
   ]
  },
  {
   "cell_type": "code",
   "execution_count": 16,
   "metadata": {
    "collapsed": false
   },
   "outputs": [
    {
     "data": {
      "text/plain": [
       "'IGRAPH UN-- 1394 9916 -- \\n+ attr: name (v)'"
      ]
     },
     "execution_count": 16,
     "metadata": {},
     "output_type": "execute_result"
    }
   ],
   "source": []
  },
  {
   "cell_type": "code",
   "execution_count": 36,
   "metadata": {
    "collapsed": false
   },
   "outputs": [
    {
     "data": {
      "image/png": "[encoded data removed]",
      "text/plain": [
       "<matplotlib.figure.Figure at 0x7f83c8965198>"
      ]
     },
     "metadata": {},
     "output_type": "display_data"
    }
   ],
   "source": []
  },
  {
   "cell_type": "code",
   "execution_count": 34,
   "metadata": {
    "collapsed": false
   },
   "outputs": [
    {
     "data": {
      "text/plain": [
       "2.7453577551868795"
      ]
     },
     "execution_count": 34,
     "metadata": {},
     "output_type": "execute_result"
    }
   ],
   "source": []
  }
 ],
 "metadata": {
  "kernelspec": {
   "display_name": "Python 3",
   "language": "python",
   "name": "python3"
  },
  "language_info": {
   "codemirror_mode": {
    "name": "ipython",
    "version": 3
   },
   "file_extension": ".py",
   "mimetype": "text/x-python",
   "name": "python",
   "nbconvert_exporter": "python",
   "pygments_lexer": "ipython3",
   "version": "3.4.3"
  }
 },
 "nbformat": 4,
 "nbformat_minor": 1
}
